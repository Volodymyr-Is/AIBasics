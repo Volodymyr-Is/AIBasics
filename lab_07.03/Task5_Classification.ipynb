{
 "cells": [
  {
   "cell_type": "markdown",
   "metadata": {
    "id": "yS3c5TMcysZk"
   },
   "source": [
    "## Лабораторна робота 5. **CLASSIFICATION** 🔵/🔺"
   ]
  },
  {
   "cell_type": "markdown",
   "metadata": {
    "id": "o_YxWfDYysZp"
   },
   "source": [
    "Оцінювання даної роботи буде ураховувати якість Ваших висновків та візуалізацій. При наявності ЛИШЕ коду та візуалізацій без роз'яснень, робота оцінюватися НЕ БУДЕ.  \n",
    "\n",
    "Більшість поставлених в цій лабораторній роботі задач в майбутньому буде ставитись Вами самойстійно!\n",
    "\n",
    "Під час виконання Вам дозволено користуватися будь-якими зручними для вас бібліотеками для візуалізації. \n",
    "\n",
    "Оформлення коментарів повинно проводитися в текстових комірках ноутбука з використанням синтаксису [LaTeX](https://en.wikibooks.org/wiki/LaTeX/Basics) для оформлення тексту та формул. \n",
    "\n",
    "Роботи ідентифіковані як ІДЕНТИЧНІ одразу отримують 0 балів."
   ]
  },
  {
   "cell_type": "markdown",
   "metadata": {
    "id": "ji8bJZmkysZq"
   },
   "source": [
    "# Опис вибірки \"bank-additional-full\""
   ]
  },
  {
   "cell_type": "markdown",
   "metadata": {
    "id": "fN7lEmYNysZq"
   },
   "source": [
    "   # Input variables:\n",
    "   `bank client data:`  \n",
    "   1 - **age** (numeric)  \n",
    "   2 - **job** : type of job (categorical: \"admin.\",\"blue-collar\",\"entrepreneur\",\"housemaid\",\"management\",\"retired\",\"self-employed\",\"services\",\"student\",\"technician\",\"unemployed\",\"unknown\")  \n",
    "   3 - **marital** : marital status (categorical: \"divorced\",\"married\",\"single\",\"unknown\"; note: \"divorced\" means divorced or widowed)  \n",
    "   4 - **education** (categorical: \"basic.4y\",\"basic.6y\",\"basic.9y\",\"high.school\",\"illiterate\",\"professional.course\",\"university.degree\",\"unknown\")  \n",
    "   5 - **default**: has credit in default? (categorical: \"no\",\"yes\",\"unknown\")  \n",
    "   6 - **housing**: has housing loan? (categorical: \"no\",\"yes\",\"unknown\")  \n",
    "   7 - **loan**: has personal loan? (categorical: \"no\",\"yes\",\"unknown\")  \n",
    "   # related with the last contact of the current campaign:  \n",
    "   8 - **contact**: contact communication type (categorical: \"cellular\",\"telephone\")   \n",
    "   9 - **month**: last contact month of year (categorical: \"jan\", \"feb\", \"mar\", ..., \"nov\", \"dec\")  \n",
    "  10 - **day_of_week**: last contact day of the week (categorical: \"mon\",\"tue\",\"wed\",\"thu\",\"fri\")  \n",
    "  11 - **duration**: last contact duration, in seconds (numeric). Important note:  this attribute highly affects the output target (e.g., if duration=0 then y=\"no\"). Yet, the duration is not known before a call is performed. Also, after the end of the call y is obviously known. Thus, this input should only be included for benchmark purposes and should be discarded if the intention is to have a realistic predictive model.  \n",
    "   # other attributes:  \n",
    "  12 - **campaign**: number of contacts performed during this campaign and for this client (numeric, includes last contact)  \n",
    "  13 - **pdays**: number of days that passed by after the client was last contacted from a previous campaign (numeric; 999 means client was not previously contacted)  \n",
    "  14 - **previous**: number of contacts performed before this campaign and for this client (numeric) \n",
    "  15 - **poutcome**: outcome of the previous marketing campaign (categorical: \"failure\",\"nonexistent\",\"success\")  \n",
    "   # social and economic context attributes  \n",
    "  16 - **emp.var.rate**: employment variation rate - quarterly indicator (numeric)  \n",
    "  17 - **cons.price.idx**: consumer price index - monthly indicator (numeric)       \n",
    "  18 - **cons.conf.idx**: consumer confidence index - monthly indicator (numeric)       \n",
    "  19 - **euribor3m**: euribor 3 month rate - daily indicator (numeric)  \n",
    "  20 - **nr.employed**: number of employees - quarterly indicator (numeric)  \n",
    "    \n",
    "   `Output variable (desired target):`  \n",
    "  21 - **y** - has the client subscribed a term deposit? (binary: \"yes\",\"no\")"
   ]
  },
  {
   "cell_type": "markdown",
   "metadata": {
    "id": "BewrKRUIysZr"
   },
   "source": [
    "## Імпорт необхідних бібліотек та завантаження даних"
   ]
  },
  {
   "cell_type": "markdown",
   "metadata": {
    "id": "sxyNYSbRysZr"
   },
   "source": [
    "**Завдання 1** підготовка даних до опрацювання\n",
    "\n",
    "1. завантажте вибірку `bank-additional-full.csv`;   \n",
    "2. підключіть необхідні бібліотеки;  \n",
    "3. вивести основну статистичну інформацію по числовим змінним;  \n",
    "4. вивести розмірність датасету."
   ]
  },
  {
   "cell_type": "code",
   "execution_count": 1,
   "metadata": {
    "id": "8f4DR0U4ysZr"
   },
   "outputs": [],
   "source": [
    "import numpy as np\n",
    "import pandas as pd\n",
    "import matplotlib.pyplot as plt\n",
    "import seaborn as sns\n",
    "from sklearn.preprocessing import LabelEncoder\n",
    "from sklearn.model_selection import train_test_split\n",
    "from sklearn.model_selection import KFold\n",
    "from sklearn.linear_model import LogisticRegression\n",
    "from sklearn.model_selection import cross_val_score\n",
    "from sklearn.metrics import confusion_matrix, accuracy_score\n",
    "from sklearn.model_selection import train_test_split\n",
    "from sklearn.preprocessing import StandardScaler\n",
    "from sklearn import model_selection\n",
    "from sklearn.neighbors import KNeighborsClassifier\n",
    "\n",
    "%matplotlib inline\n",
    "import warnings\n",
    "warnings.filterwarnings('ignore')"
   ]
  },
  {
   "cell_type": "code",
   "execution_count": 2,
   "metadata": {
    "id": "uzAsItFFysZs"
   },
   "outputs": [
    {
     "name": "stdout",
     "output_type": "stream",
     "text": [
      "               age      duration      campaign         pdays      previous  \\\n",
      "count  41188.00000  41188.000000  41188.000000  41188.000000  41188.000000   \n",
      "mean      40.02406    258.285010      2.567593    962.475454      0.172963   \n",
      "std       10.42125    259.279249      2.770014    186.910907      0.494901   \n",
      "min       17.00000      0.000000      1.000000      0.000000      0.000000   \n",
      "25%       32.00000    102.000000      1.000000    999.000000      0.000000   \n",
      "50%       38.00000    180.000000      2.000000    999.000000      0.000000   \n",
      "75%       47.00000    319.000000      3.000000    999.000000      0.000000   \n",
      "max       98.00000   4918.000000     56.000000    999.000000      7.000000   \n",
      "\n",
      "       emp.var.rate  cons.price.idx  cons.conf.idx     euribor3m   nr.employed  \n",
      "count  41188.000000    41188.000000   41188.000000  41188.000000  41188.000000  \n",
      "mean       0.081886       93.575664     -40.502600      3.621291   5167.035911  \n",
      "std        1.570960        0.578840       4.628198      1.734447     72.251528  \n",
      "min       -3.400000       92.201000     -50.800000      0.634000   4963.600000  \n",
      "25%       -1.800000       93.075000     -42.700000      1.344000   5099.100000  \n",
      "50%        1.100000       93.749000     -41.800000      4.857000   5191.000000  \n",
      "75%        1.400000       93.994000     -36.400000      4.961000   5228.100000  \n",
      "max        1.400000       94.767000     -26.900000      5.045000   5228.100000  \n",
      "<class 'pandas.core.frame.DataFrame'>\n",
      "RangeIndex: 41188 entries, 0 to 41187\n",
      "Data columns (total 21 columns):\n",
      " #   Column          Non-Null Count  Dtype  \n",
      "---  ------          --------------  -----  \n",
      " 0   age             41188 non-null  int64  \n",
      " 1   job             41188 non-null  object \n",
      " 2   marital         41188 non-null  object \n",
      " 3   education       41188 non-null  object \n",
      " 4   default         41188 non-null  object \n",
      " 5   housing         41188 non-null  object \n",
      " 6   loan            41188 non-null  object \n",
      " 7   contact         41188 non-null  object \n",
      " 8   month           41188 non-null  object \n",
      " 9   day_of_week     41188 non-null  object \n",
      " 10  duration        41188 non-null  int64  \n",
      " 11  campaign        41188 non-null  int64  \n",
      " 12  pdays           41188 non-null  int64  \n",
      " 13  previous        41188 non-null  int64  \n",
      " 14  poutcome        41188 non-null  object \n",
      " 15  emp.var.rate    41188 non-null  float64\n",
      " 16  cons.price.idx  41188 non-null  float64\n",
      " 17  cons.conf.idx   41188 non-null  float64\n",
      " 18  euribor3m       41188 non-null  float64\n",
      " 19  nr.employed     41188 non-null  float64\n",
      " 20  y               41188 non-null  object \n",
      "dtypes: float64(5), int64(5), object(11)\n",
      "memory usage: 6.6+ MB\n",
      "None\n",
      "Розмірність датасету: (41188, 21)\n"
     ]
    }
   ],
   "source": [
    "#code\n",
    "df = pd.read_csv(\"bank-additional-full.csv\", sep=';')\n",
    "\n",
    "print(df.describe())\n",
    "print(df.info())\n",
    "print(f\"Розмірність датасету: {df.shape}\")"
   ]
  },
  {
   "cell_type": "markdown",
   "metadata": {
    "id": "DsIS2KLCysZs"
   },
   "source": [
    "**Завдання 2** підготовка цільової змінної  \n",
    "\n",
    "1. проаналізувати атрибути вибірки, визначити цільовий атрибут `target atribute`;\n",
    "2. якщо `target atribute` є категоріальним, його необхідно перетворити в чисельний."
   ]
  },
  {
   "cell_type": "code",
   "execution_count": 3,
   "metadata": {
    "id": "LKsTWBCdysZt"
   },
   "outputs": [],
   "source": [
    "# bank_target = #code\n",
    "df['y'] = df['y'].map({'yes': 1, 'no': 0})\n",
    "target = df['y']"
   ]
  },
  {
   "cell_type": "markdown",
   "metadata": {
    "id": "VHy_NT1aysZt"
   },
   "source": [
    "## Аналіз змінних, які характеризують клієнтів банку:"
   ]
  },
  {
   "cell_type": "markdown",
   "metadata": {
    "id": "GDSktQp_ysZt"
   },
   "source": [
    "**Завдання 3** Визначитись зі всіма атрибутами, що характреризують кліентів банку:\n",
    "- виділити їх в окрему частину;\n",
    "- первірити всі змінні (які унікальні значення містять атрибути)(дивись опис датасету)."
   ]
  },
  {
   "cell_type": "code",
   "execution_count": 4,
   "metadata": {
    "id": "lku0lnRIysZt"
   },
   "outputs": [
    {
     "name": "stdout",
     "output_type": "stream",
     "text": [
      "age          78\n",
      "job          12\n",
      "marital       4\n",
      "education     8\n",
      "default       3\n",
      "housing       3\n",
      "loan          3\n",
      "dtype: int64\n"
     ]
    }
   ],
   "source": [
    "bank_client = df[['age', 'job', 'marital', 'education', 'default', 'housing', 'loan']]\n",
    "print(bank_client.nunique())"
   ]
  },
  {
   "cell_type": "markdown",
   "metadata": {
    "id": "zfKF4TiAysZt"
   },
   "source": [
    "**Завдання 4** Аналіз атрибуту `Age`:  \n",
    "1. Вивести максимальне та мінімальне значення;  \n",
    "2. Перевірити на наявність `NaN`;  \n",
    "3. Провести візуальний аналіз зміної `Age`:\n",
    "    - побудувати `countplot`, `boxplot`, `distplot`;\n",
    "    - перевірити розподіл по змінній `Age` на важкі хвости."
   ]
  },
  {
   "cell_type": "code",
   "execution_count": 6,
   "metadata": {
    "id": "ksMwh5pLysZu"
   },
   "outputs": [
    {
     "name": "stdout",
     "output_type": "stream",
     "text": [
      "Min Age: 17, Max Age: 98\n",
      "NaN у віці: 0\n"
     ]
    },
    {
     "data": {
      "image/png": "[encoded data removed]",
      "text/plain": [
       "<Figure size 1200x400 with 1 Axes>"
      ]
     },
     "metadata": {},
     "output_type": "display_data"
    }
   ],
   "source": [
    "#code\n",
    "print(f\"Min Age: {df['age'].min()}, Max Age: {df['age'].max()}\")\n",
    "print(f\"NaN у віці: {df['age'].isna().sum()}\")\n",
    "plt.figure(figsize=(12, 4))\n",
    "sns.countplot(x='age', data=df)\n",
    "sns.boxplot(x=df['age'])\n",
    "sns.histplot(df['age'], bins=30)\n",
    "plt.show()"
   ]
  },
  {
   "cell_type": "markdown",
   "metadata": {
    "id": "P_2Fdjg8ysZu"
   },
   "source": [
    "**Висновки з 1-4 завдання (детальні)**"
   ]
  },
  {
   "cell_type": "markdown",
   "metadata": {
    "id": "6MRw2gFlysZu"
   },
   "source": [
    "1.   \n",
    "2.   \n",
    "3. ..."
   ]
  },
  {
   "cell_type": "markdown",
   "metadata": {
    "id": "LHo0NoTHysZu"
   },
   "source": [
    "**Завдання 5** Перевірити атрибут `Age` на викиди: "
   ]
  },
  {
   "cell_type": "code",
   "execution_count": 7,
   "metadata": {
    "id": "9iXl-Y4OysZu"
   },
   "outputs": [],
   "source": [
    "def detect_outliers_with_interquantile_range(df, column, low_percentile, high_percentile):\n",
    "    Q1 = np.percentile(df[column], low_percentile)\n",
    "    Q3 = np.percentile(df[column], high_percentile)\n",
    "    IQR = Q3 - Q1\n",
    "    low_lim = Q1 - 1.5 * IQR\n",
    "    up_lim = Q3 + 1.5 * IQR\n",
    "    outliers = df[(df[column] > up_lim) | (df[column] < low_lim)]\n",
    "    return outliers"
   ]
  },
  {
   "cell_type": "code",
   "execution_count": 8,
   "metadata": {
    "id": "gc_oPZJMysZv"
   },
   "outputs": [
    {
     "name": "stdout",
     "output_type": "stream",
     "text": [
      "       age      job  marital education  default housing loan   contact month  \\\n",
      "38452   98  retired  married  basic.4y  unknown     yes   no  cellular   oct   \n",
      "38455   98  retired  married  basic.4y  unknown     yes   no  cellular   oct   \n",
      "\n",
      "      day_of_week  ...  campaign  pdays  previous     poutcome emp.var.rate  \\\n",
      "38452         fri  ...         1      2         2      success         -3.4   \n",
      "38455         fri  ...         2    999         0  nonexistent         -3.4   \n",
      "\n",
      "       cons.price.idx  cons.conf.idx  euribor3m  nr.employed  y  \n",
      "38452          92.431          -26.9       0.73       5017.5  1  \n",
      "38455          92.431          -26.9       0.73       5017.5  1  \n",
      "\n",
      "[2 rows x 21 columns]\n"
     ]
    }
   ],
   "source": [
    "outliers = detect_outliers_with_interquantile_range(df, 'age', 10, 90)\n",
    "print(outliers)"
   ]
  },
  {
   "cell_type": "markdown",
   "metadata": {
    "id": "PN-ypxmiysZv"
   },
   "source": [
    "**Висновки з завдання 5 (детальні)**"
   ]
  },
  {
   "cell_type": "markdown",
   "metadata": {
    "id": "vJzhjPQ_ysZv"
   },
   "source": [
    "1.   \n",
    "2.   \n",
    "3. ..."
   ]
  },
  {
   "cell_type": "markdown",
   "metadata": {
    "id": "llohM2tDysZv"
   },
   "source": [
    "**Завдання 6** Аналіз атрибутів `job`, `marital` та `education`:  \n",
    "- Побудувати графіки розподілу даних по цим змінним."
   ]
  },
  {
   "cell_type": "code",
   "execution_count": 9,
   "metadata": {
    "id": "Srz_q9wSysZw"
   },
   "outputs": [
    {
     "data": {
      "image/png": "[encoded data removed]",
      "text/plain": [
       "<Figure size 800x400 with 1 Axes>"
      ]
     },
     "metadata": {},
     "output_type": "display_data"
    },
    {
     "data": {
      "image/png": "[encoded data removed]",
      "text/plain": [
       "<Figure size 800x400 with 1 Axes>"
      ]
     },
     "metadata": {},
     "output_type": "display_data"
    },
    {
     "data": {
      "image/png": "[encoded data removed]",
      "text/plain": [
       "<Figure size 800x400 with 1 Axes>"
      ]
     },
     "metadata": {},
     "output_type": "display_data"
    }
   ],
   "source": [
    "#code\n",
    "categorical_cols = ['job', 'marital', 'education']\n",
    "for col in categorical_cols:\n",
    "    plt.figure(figsize=(8, 4))\n",
    "    sns.countplot(y=df[col])\n",
    "    plt.title(f\"Розподіл {col}\")\n",
    "    plt.show()"
   ]
  },
  {
   "cell_type": "code",
   "execution_count": null,
   "metadata": {
    "id": "X8IXg3ZEysZw"
   },
   "outputs": [],
   "source": [
    "#code"
   ]
  },
  {
   "cell_type": "code",
   "execution_count": null,
   "metadata": {
    "id": "CpmtGSyAysZw"
   },
   "outputs": [],
   "source": [
    "#code"
   ]
  },
  {
   "cell_type": "markdown",
   "metadata": {
    "id": "_HoSeGyxysZw"
   },
   "source": [
    "**Висновки з завдання 6 (детальні)**"
   ]
  },
  {
   "cell_type": "markdown",
   "metadata": {
    "id": "ED3cGHeVysZw"
   },
   "source": [
    "1.   \n",
    "2.   \n",
    "3. ..."
   ]
  },
  {
   "cell_type": "markdown",
   "metadata": {
    "id": "jw3sXGn5ysZw"
   },
   "source": [
    "**Завдання 7** Аналіз атрибутів `default`, `housing` та `loan`:  \n",
    "- Побудувати графіки розподілу даних по цим змінним."
   ]
  },
  {
   "cell_type": "code",
   "execution_count": 10,
   "metadata": {
    "id": "ZY9DAx6jysZx"
   },
   "outputs": [
    {
     "data": {
      "image/png": "[encoded data removed]",
      "text/plain": [
       "<Figure size 600x400 with 1 Axes>"
      ]
     },
     "metadata": {},
     "output_type": "display_data"
    },
    {
     "data": {
      "image/png": "[encoded data removed]",
      "text/plain": [
       "<Figure size 600x400 with 1 Axes>"
      ]
     },
     "metadata": {},
     "output_type": "display_data"
    },
    {
     "data": {
      "image/png": "[encoded data removed]",
      "text/plain": [
       "<Figure size 600x400 with 1 Axes>"
      ]
     },
     "metadata": {},
     "output_type": "display_data"
    }
   ],
   "source": [
    "#code\n",
    "for col in ['default', 'housing', 'loan']:\n",
    "    plt.figure(figsize=(6, 4))\n",
    "    sns.countplot(x=df[col])\n",
    "    plt.title(f\"Розподіл {col}\")\n",
    "    plt.show()"
   ]
  },
  {
   "cell_type": "code",
   "execution_count": null,
   "metadata": {
    "id": "Ak_0-1PxysZx"
   },
   "outputs": [],
   "source": [
    "#code"
   ]
  },
  {
   "cell_type": "code",
   "execution_count": null,
   "metadata": {
    "id": "NDArycEQysZx"
   },
   "outputs": [],
   "source": [
    "#code"
   ]
  },
  {
   "cell_type": "markdown",
   "metadata": {
    "id": "wYtREfcJysZx"
   },
   "source": [
    "**Завдання 8** Змінні **Jobs, Marital, Education, Default, Housing, Loan** трансформувати в неперервні змінні:"
   ]
  },
  {
   "cell_type": "code",
   "execution_count": 11,
   "metadata": {
    "id": "Wsg4TFQzysZx"
   },
   "outputs": [],
   "source": [
    "def encode_categorical_columns(df, categorical_cols):\n",
    "    le = LabelEncoder()\n",
    "    for col in categorical_cols:\n",
    "        df[col] = le.fit_transform(df[col].astype(str))\n",
    "    return df\n"
   ]
  },
  {
   "cell_type": "code",
   "execution_count": 13,
   "metadata": {
    "id": "pInQzFcxysZx"
   },
   "outputs": [
    {
     "name": "stdout",
     "output_type": "stream",
     "text": [
      "       age  job  marital  education  default  housing  loan\n",
      "0       56    5        1          0        0        0     0\n",
      "1       57    9        1          3        1        0     0\n",
      "2       37    9        1          3        0        2     0\n",
      "3       40    0        1          1        0        0     0\n",
      "4       56    9        1          3        0        0     2\n",
      "...    ...  ...      ...        ...      ...      ...   ...\n",
      "41183   73    7        1          5        0        2     0\n",
      "41184   46    1        1          5        0        0     0\n",
      "41185   56    7        1          6        0        2     0\n",
      "41186   44   11        1          5        0        0     0\n",
      "41187   74    7        1          5        0        2     0\n",
      "\n",
      "[41188 rows x 7 columns]\n"
     ]
    }
   ],
   "source": [
    "bank_client = encode_categorical_columns(bank_client, ['job', 'marital', 'education', 'default', 'housing',  'loan'])\n",
    "print(bank_client)"
   ]
  },
  {
   "cell_type": "markdown",
   "metadata": {
    "id": "qY0ybijaysZy"
   },
   "source": [
    "**Завдання 9** Трансфомувати змінну **Age** (використовуючи її квартильні значення):\n",
    "\n",
    "\n"
   ]
  },
  {
   "cell_type": "code",
   "execution_count": 14,
   "metadata": {
    "id": "jKCNuX1YysZy"
   },
   "outputs": [],
   "source": [
    "def encode_age(df, age_col):\n",
    "    df[age_col] = pd.qcut(df[age_col], q=4, labels=[1, 2, 3, 4])\n",
    "    return df"
   ]
  },
  {
   "cell_type": "code",
   "execution_count": 15,
   "metadata": {
    "id": "FexEyw5BysZy"
   },
   "outputs": [
    {
     "name": "stdout",
     "output_type": "stream",
     "text": [
      "      age  job  marital  education  default  housing  loan\n",
      "0       4    5        1          0        0        0     0\n",
      "1       4    9        1          3        1        0     0\n",
      "2       2    9        1          3        0        2     0\n",
      "3       3    0        1          1        0        0     0\n",
      "4       4    9        1          3        0        0     2\n",
      "...    ..  ...      ...        ...      ...      ...   ...\n",
      "41183   4    7        1          5        0        2     0\n",
      "41184   3    1        1          5        0        0     0\n",
      "41185   4    7        1          6        0        2     0\n",
      "41186   3   11        1          5        0        0     0\n",
      "41187   4    7        1          5        0        2     0\n",
      "\n",
      "[41188 rows x 7 columns]\n"
     ]
    }
   ],
   "source": [
    "bank_client = encode_age(bank_client, 'age')\n",
    "print(bank_client)"
   ]
  },
  {
   "cell_type": "markdown",
   "metadata": {
    "id": "9F2SI64JysZy"
   },
   "source": [
    "**Висновки з завдання 9 (детальні)** перевірити як відбулося перетворення змінних"
   ]
  },
  {
   "cell_type": "markdown",
   "metadata": {
    "id": "U32QZJAeysZy"
   },
   "source": [
    "## Вибірка містить певну кількість атрибутів, які характеризують останій зв'язок кліентів з банком"
   ]
  },
  {
   "cell_type": "markdown",
   "metadata": {
    "id": "gzxtGoEiysZy"
   },
   "source": [
    "**Завдання 10** Виділити в окремий датафрейм змінні, які характеризують зв'язок клієнтів з банком;\n",
    "- вивести цей датафрейм;\n",
    "- перевірити ці змінні на `NaN`."
   ]
  },
  {
   "cell_type": "code",
   "execution_count": 16,
   "metadata": {
    "id": "p0zB5zHeysZy"
   },
   "outputs": [
    {
     "name": "stdout",
     "output_type": "stream",
     "text": [
      "contact        0\n",
      "month          0\n",
      "day_of_week    0\n",
      "duration       0\n",
      "dtype: int64\n"
     ]
    }
   ],
   "source": [
    "bank_relat = df[['contact', 'month', 'day_of_week', 'duration']]\n",
    "print(bank_relat.isna().sum())"
   ]
  },
  {
   "cell_type": "markdown",
   "metadata": {
    "id": "Axa42bVcysZz"
   },
   "source": [
    "**Завдання 11** вивести унікальні значення, які містять атрибути `contact`, `month`, `day_of_week`"
   ]
  },
  {
   "cell_type": "code",
   "execution_count": 17,
   "metadata": {
    "id": "YesBNZfIysZz"
   },
   "outputs": [
    {
     "name": "stdout",
     "output_type": "stream",
     "text": [
      "contact: ['telephone' 'cellular']\n",
      "month: ['may' 'jun' 'jul' 'aug' 'oct' 'nov' 'dec' 'mar' 'apr' 'sep']\n",
      "day_of_week: ['mon' 'tue' 'wed' 'thu' 'fri']\n"
     ]
    }
   ],
   "source": [
    "#code\n",
    "for col in ['contact', 'month', 'day_of_week']:\n",
    "    print(f\"{col}: {df[col].unique()}\")"
   ]
  },
  {
   "cell_type": "markdown",
   "metadata": {
    "id": "6fFzX2raysZz"
   },
   "source": [
    "# Провести аналіз змінної **Duration**"
   ]
  },
  {
   "cell_type": "markdown",
   "metadata": {
    "id": "YiP7F-TAysZz"
   },
   "source": [
    "змінна ` duration` містить інформацію про тривалість останнього дзвінка, в секундах (числова). Важливе зауваження: цей атрибут сильно впливає на цільову змінну (наприклад, якщо тривалість = 0, тоді y = \"ні\"). Проте тривалість невідома до здійснення дзвінка. Крім того, після закінчення дзвінка y, очевидно, відомо. Таким чином, цей внесок слід включати лише для цілей порівняльних показників і відкидати, якщо метою є реалістична модель прогнозування."
   ]
  },
  {
   "cell_type": "markdown",
   "metadata": {
    "id": "VH7T1BCsysZz"
   },
   "source": [
    "**Завдання 12** Аналіз атрибуту `duration`:  \n",
    "\n",
    "Провести візуальний аналіз зміної `duration`:  \n",
    "\n",
    "\n",
    "*   побудувати  `boxplot` та `distplot`; \n",
    "*   перевірити розподіл по змінній `duration` на важкі хвости. \n",
    "\n"
   ]
  },
  {
   "cell_type": "code",
   "execution_count": 42,
   "metadata": {
    "id": "0ijoio2zysZz"
   },
   "outputs": [
    {
     "data": {
      "image/png": "[encoded data removed]",
      "text/plain": [
       "<Figure size 1000x400 with 1 Axes>"
      ]
     },
     "metadata": {},
     "output_type": "display_data"
    }
   ],
   "source": [
    "#code\n",
    "plt.figure(figsize=(10, 4))\n",
    "sns.boxplot(x=df['duration'])\n",
    "sns.histplot(df['duration'], bins=50)\n",
    "plt.show()"
   ]
  },
  {
   "cell_type": "markdown",
   "metadata": {
    "id": "PQJ5TJgjysZ0"
   },
   "source": [
    "**Завдання 13** Закодувати змінні Contact, Month, Day of Week (використовуйте функцію `encode_categorical_columns()`)"
   ]
  },
  {
   "cell_type": "code",
   "execution_count": 21,
   "metadata": {
    "id": "thp8iB4bysZ0"
   },
   "outputs": [
    {
     "name": "stdout",
     "output_type": "stream",
     "text": [
      "       contact  month  day_of_week  duration\n",
      "0            1      6            1       261\n",
      "1            1      6            1       149\n",
      "2            1      6            1       226\n",
      "3            1      6            1       151\n",
      "4            1      6            1       307\n",
      "...        ...    ...          ...       ...\n",
      "41183        0      7            0       334\n",
      "41184        0      7            0       383\n",
      "41185        0      7            0       189\n",
      "41186        0      7            0       442\n",
      "41187        0      7            0       239\n",
      "\n",
      "[41188 rows x 4 columns]\n"
     ]
    }
   ],
   "source": [
    "#code\n",
    "bank_relat = encode_categorical_columns(bank_relat, ['contact', 'month', 'day_of_week'])\n",
    "print(bank_relat)"
   ]
  },
  {
   "cell_type": "markdown",
   "metadata": {
    "id": "56q7Ok-rysZ0"
   },
   "source": [
    "**Завдання 14** Трансфомувати змінну **duration**, використовуючи її квартильні значення:"
   ]
  },
  {
   "cell_type": "code",
   "execution_count": 22,
   "metadata": {
    "id": "wxwc4i-aysZ0"
   },
   "outputs": [],
   "source": [
    "def encode_duration(df, duration_col):\n",
    "    df[duration_col] = pd.qcut(df[duration_col], q=4, labels=[1, 2, 3, 4])\n",
    "    return df"
   ]
  },
  {
   "cell_type": "code",
   "execution_count": 23,
   "metadata": {
    "id": "yGlDw6uGysZ0"
   },
   "outputs": [
    {
     "name": "stdout",
     "output_type": "stream",
     "text": [
      "       contact  month  day_of_week duration\n",
      "0            1      6            1        3\n",
      "1            1      6            1        2\n",
      "2            1      6            1        3\n",
      "3            1      6            1        2\n",
      "4            1      6            1        3\n",
      "...        ...    ...          ...      ...\n",
      "41183        0      7            0        4\n",
      "41184        0      7            0        4\n",
      "41185        0      7            0        3\n",
      "41186        0      7            0        4\n",
      "41187        0      7            0        3\n",
      "\n",
      "[41188 rows x 4 columns]\n"
     ]
    }
   ],
   "source": [
    "bank_relat = encode_duration(bank_relat, 'duration')\n",
    "print(bank_relat)"
   ]
  },
  {
   "cell_type": "markdown",
   "metadata": {
    "id": "09lfy5MvysZ0"
   },
   "source": [
    "## Провести аналіз атрибутів **соціального та економічного контексту**"
   ]
  },
  {
   "cell_type": "markdown",
   "metadata": {
    "id": "SnUz68opysZ1"
   },
   "source": [
    "**Завдання 15** Виділити в окремий датафрейм атрибути соціального та єкономічного контексту"
   ]
  },
  {
   "cell_type": "code",
   "execution_count": 25,
   "metadata": {
    "id": "Iag7Z_6eysZ1"
   },
   "outputs": [
    {
     "name": "stdout",
     "output_type": "stream",
     "text": [
      "       emp.var.rate  cons.price.idx  cons.conf.idx  euribor3m  nr.employed\n",
      "0               1.1          93.994          -36.4      4.857       5191.0\n",
      "1               1.1          93.994          -36.4      4.857       5191.0\n",
      "2               1.1          93.994          -36.4      4.857       5191.0\n",
      "3               1.1          93.994          -36.4      4.857       5191.0\n",
      "4               1.1          93.994          -36.4      4.857       5191.0\n",
      "...             ...             ...            ...        ...          ...\n",
      "41183          -1.1          94.767          -50.8      1.028       4963.6\n",
      "41184          -1.1          94.767          -50.8      1.028       4963.6\n",
      "41185          -1.1          94.767          -50.8      1.028       4963.6\n",
      "41186          -1.1          94.767          -50.8      1.028       4963.6\n",
      "41187          -1.1          94.767          -50.8      1.028       4963.6\n",
      "\n",
      "[41188 rows x 5 columns]\n"
     ]
    }
   ],
   "source": [
    "bank_socec = df[['emp.var.rate', 'cons.price.idx', 'cons.conf.idx', 'euribor3m', 'nr.employed']]\n",
    "print(bank_socec)"
   ]
  },
  {
   "cell_type": "markdown",
   "metadata": {
    "id": "yPtBjoemysZ1"
   },
   "source": [
    "**Завдання 16** Виділити в окремий датафрейм всі інші атрибути атрибути - `campaign`, `pdays`,`previous`, `poutcome`"
   ]
  },
  {
   "cell_type": "code",
   "execution_count": 26,
   "metadata": {
    "id": "tcTvIR9xysZ3"
   },
   "outputs": [
    {
     "name": "stdout",
     "output_type": "stream",
     "text": [
      "       campaign  pdays  previous     poutcome\n",
      "0             1    999         0  nonexistent\n",
      "1             1    999         0  nonexistent\n",
      "2             1    999         0  nonexistent\n",
      "3             1    999         0  nonexistent\n",
      "4             1    999         0  nonexistent\n",
      "...         ...    ...       ...          ...\n",
      "41183         1    999         0  nonexistent\n",
      "41184         1    999         0  nonexistent\n",
      "41185         2    999         0  nonexistent\n",
      "41186         1    999         0  nonexistent\n",
      "41187         3    999         1      failure\n",
      "\n",
      "[41188 rows x 4 columns]\n"
     ]
    }
   ],
   "source": [
    "bank_other = df[['campaign', 'pdays', 'previous', 'poutcome']]\n",
    "print(bank_other)"
   ]
  },
  {
   "cell_type": "markdown",
   "metadata": {
    "id": "hf9tgwqRysZ3"
   },
   "source": [
    "**Завдання 17** Провести трансформацію атрибуту `poutcome`"
   ]
  },
  {
   "cell_type": "code",
   "execution_count": 27,
   "metadata": {
    "id": "nUVUzdq1ysZ3"
   },
   "outputs": [
    {
     "name": "stdout",
     "output_type": "stream",
     "text": [
      "       campaign  pdays  previous  poutcome\n",
      "0             1    999         0         1\n",
      "1             1    999         0         1\n",
      "2             1    999         0         1\n",
      "3             1    999         0         1\n",
      "4             1    999         0         1\n",
      "...         ...    ...       ...       ...\n",
      "41183         1    999         0         1\n",
      "41184         1    999         0         1\n",
      "41185         2    999         0         1\n",
      "41186         1    999         0         1\n",
      "41187         3    999         1         0\n",
      "\n",
      "[41188 rows x 4 columns]\n"
     ]
    }
   ],
   "source": [
    "#code\n",
    "bank_other = encode_categorical_columns(bank_other, ['poutcome'])\n",
    "print(bank_other)"
   ]
  },
  {
   "cell_type": "markdown",
   "metadata": {
    "id": "-E2GpdBKysZ4"
   },
   "source": [
    "## Будування моделей класифікації"
   ]
  },
  {
   "cell_type": "markdown",
   "metadata": {
    "id": "HZ6ZNGtvysZ4"
   },
   "source": [
    "**Завдання 18** З'єднати всі отримані блоки в один датафрейм і перевірити, що він містить тільки потрібні для моделювання колонки"
   ]
  },
  {
   "cell_type": "code",
   "execution_count": 28,
   "metadata": {
    "id": "y6gbsEk2ysZ4"
   },
   "outputs": [
    {
     "name": "stdout",
     "output_type": "stream",
     "text": [
      "      age  job  marital  education  default  housing  loan  contact  month  \\\n",
      "0       4    5        1          0        0        0     0        1      6   \n",
      "1       4    9        1          3        1        0     0        1      6   \n",
      "2       2    9        1          3        0        2     0        1      6   \n",
      "3       3    0        1          1        0        0     0        1      6   \n",
      "4       4    9        1          3        0        0     2        1      6   \n",
      "...    ..  ...      ...        ...      ...      ...   ...      ...    ...   \n",
      "41183   4    7        1          5        0        2     0        0      7   \n",
      "41184   3    1        1          5        0        0     0        0      7   \n",
      "41185   4    7        1          6        0        2     0        0      7   \n",
      "41186   3   11        1          5        0        0     0        0      7   \n",
      "41187   4    7        1          5        0        2     0        0      7   \n",
      "\n",
      "       day_of_week duration  emp.var.rate  cons.price.idx  cons.conf.idx  \\\n",
      "0                1        3           1.1          93.994          -36.4   \n",
      "1                1        2           1.1          93.994          -36.4   \n",
      "2                1        3           1.1          93.994          -36.4   \n",
      "3                1        2           1.1          93.994          -36.4   \n",
      "4                1        3           1.1          93.994          -36.4   \n",
      "...            ...      ...           ...             ...            ...   \n",
      "41183            0        4          -1.1          94.767          -50.8   \n",
      "41184            0        4          -1.1          94.767          -50.8   \n",
      "41185            0        3          -1.1          94.767          -50.8   \n",
      "41186            0        4          -1.1          94.767          -50.8   \n",
      "41187            0        3          -1.1          94.767          -50.8   \n",
      "\n",
      "       euribor3m  nr.employed  campaign  pdays  previous  poutcome  \n",
      "0          4.857       5191.0         1    999         0         1  \n",
      "1          4.857       5191.0         1    999         0         1  \n",
      "2          4.857       5191.0         1    999         0         1  \n",
      "3          4.857       5191.0         1    999         0         1  \n",
      "4          4.857       5191.0         1    999         0         1  \n",
      "...          ...          ...       ...    ...       ...       ...  \n",
      "41183      1.028       4963.6         1    999         0         1  \n",
      "41184      1.028       4963.6         1    999         0         1  \n",
      "41185      1.028       4963.6         2    999         0         1  \n",
      "41186      1.028       4963.6         1    999         0         1  \n",
      "41187      1.028       4963.6         3    999         1         0  \n",
      "\n",
      "[41188 rows x 20 columns]\n"
     ]
    }
   ],
   "source": [
    "bank_final = pd.concat([bank_client, bank_relat, bank_socec, bank_other], axis=1)\n",
    "print(bank_final)"
   ]
  },
  {
   "cell_type": "markdown",
   "metadata": {
    "id": "_AwD8ZiBysZ4"
   },
   "source": [
    "**Завдання 19** Провести ділення вибірки"
   ]
  },
  {
   "cell_type": "code",
   "execution_count": 29,
   "metadata": {
    "id": "RZhPJcZ4ysZ5"
   },
   "outputs": [],
   "source": [
    "def prepare_data_for_training(X, target, test_size, n_splits, random_state):\n",
    "    X_train, X_test, y_train, y_test = train_test_split(X, target, test_size=test_size, random_state=random_state)\n",
    "    k_fold = KFold(n_splits=n_splits, shuffle=True, random_state=random_state)\n",
    "    return X_train, X_test, y_train, y_test, k_fold\n"
   ]
  },
  {
   "cell_type": "code",
   "execution_count": 31,
   "metadata": {
    "id": "1rj6PXqfysZ5"
   },
   "outputs": [
    {
     "name": "stdout",
     "output_type": "stream",
     "text": [
      "      age  job  marital  education  default  housing  loan  contact  month  \\\n",
      "39577   4    7        1          2        0        0     0        0      6   \n",
      "10104   4   11        1          6        0        2     0        1      4   \n",
      "17235   2    9        1          3        0        0     0        0      3   \n",
      "20926   1    0        2          6        0        2     0        0      1   \n",
      "17626   4    4        1          2        0        2     0        0      3   \n",
      "...    ..  ...      ...        ...      ...      ...   ...      ...    ...   \n",
      "12363   1    9        0          3        0        2     2        0      3   \n",
      "5695    4    4        1          2        0        2     0        1      6   \n",
      "8006    2    3        1          2        0        0     0        1      4   \n",
      "17745   3    1        1          7        1        0     2        0      3   \n",
      "17931   3    1        1          7        0        2     0        0      3   \n",
      "\n",
      "       day_of_week duration  emp.var.rate  cons.price.idx  cons.conf.idx  \\\n",
      "39577            3        2          -1.8          93.876          -40.0   \n",
      "10104            2        4           1.4          94.465          -41.8   \n",
      "17235            0        4           1.4          93.918          -42.7   \n",
      "20926            2        4           1.4          93.444          -36.1   \n",
      "17626            1        2           1.4          93.918          -42.7   \n",
      "...            ...      ...           ...             ...            ...   \n",
      "12363            0        1           1.4          93.918          -42.7   \n",
      "5695             1        3           1.1          93.994          -36.4   \n",
      "8006             1        4           1.4          94.465          -41.8   \n",
      "17745            3        1           1.4          93.918          -42.7   \n",
      "17931            3        1           1.4          93.918          -42.7   \n",
      "\n",
      "       euribor3m  nr.employed  campaign  pdays  previous  poutcome  \n",
      "39577      0.668       5008.7         1    999         2         0  \n",
      "10104      4.958       5228.1         1    999         0         1  \n",
      "17235      4.962       5228.1         4    999         0         1  \n",
      "20926      4.964       5228.1         1    999         0         1  \n",
      "17626      4.962       5228.1         5    999         0         1  \n",
      "...          ...          ...       ...    ...       ...       ...  \n",
      "12363      4.959       5228.1         2    999         0         1  \n",
      "5695       4.857       5191.0         2    999         0         1  \n",
      "8006       4.865       5228.1         2    999         0         1  \n",
      "17745      4.961       5228.1        21    999         0         1  \n",
      "17931      4.961       5228.1         5    999         0         1  \n",
      "\n",
      "[32950 rows x 20 columns]       age  job  marital  education  default  housing  loan  contact  month  \\\n",
      "3669    1    9        1          3        0        0     2        1      6   \n",
      "20131   4   11        2          3        0        2     0        0      1   \n",
      "2492    2    6        2          6        0        2     2        1      6   \n",
      "14088   1    1        1          2        0        2     0        0      3   \n",
      "34986   1    1        1          2        0        0     2        0      6   \n",
      "...    ..  ...      ...        ...      ...      ...   ...      ...    ...   \n",
      "21321   1    0        1          6        0        0     2        0      1   \n",
      "6295    3    0        1          3        0        0     0        1      6   \n",
      "3627    1    1        2          3        1        0     0        1      6   \n",
      "27617   2    8        1          6        0        2     0        0      7   \n",
      "9811    2    6        1          6        0        0     0        1      4   \n",
      "\n",
      "       day_of_week duration  emp.var.rate  cons.price.idx  cons.conf.idx  \\\n",
      "3669             0        3           1.1          93.994          -36.4   \n",
      "20131            1        1           1.4          93.444          -36.1   \n",
      "2492             3        2           1.1          93.994          -36.4   \n",
      "14088            1        2           1.4          93.918          -42.7   \n",
      "34986            0        1          -1.8          92.893          -46.2   \n",
      "...            ...      ...           ...             ...            ...   \n",
      "21321            1        1           1.4          93.444          -36.1   \n",
      "6295             3        2           1.1          93.994          -36.4   \n",
      "3627             0        1           1.1          93.994          -36.4   \n",
      "27617            0        1          -0.1          93.200          -42.0   \n",
      "9811             4        4           1.4          94.465          -41.8   \n",
      "\n",
      "       euribor3m  nr.employed  campaign  pdays  previous  poutcome  \n",
      "3669       4.859       5191.0         1    999         0         1  \n",
      "20131      4.965       5228.1         2    999         0         1  \n",
      "2492       4.856       5191.0         3    999         0         1  \n",
      "14088      4.962       5228.1         2    999         0         1  \n",
      "34986      1.250       5099.1         5    999         0         1  \n",
      "...          ...          ...       ...    ...       ...       ...  \n",
      "21321      4.963       5228.1        10    999         0         1  \n",
      "6295       4.857       5191.0         6    999         0         1  \n",
      "3627       4.859       5191.0         2    999         0         1  \n",
      "27617      4.021       5195.8         2    999         0         1  \n",
      "9811       4.959       5228.1         8    999         0         1  \n",
      "\n",
      "[8238 rows x 20 columns] 39577    0\n",
      "10104    0\n",
      "17235    0\n",
      "20926    0\n",
      "17626    0\n",
      "        ..\n",
      "12363    0\n",
      "5695     0\n",
      "8006     0\n",
      "17745    0\n",
      "17931    0\n",
      "Name: y, Length: 32950, dtype: int64 3669     0\n",
      "20131    0\n",
      "2492     0\n",
      "14088    0\n",
      "34986    0\n",
      "        ..\n",
      "21321    0\n",
      "6295     0\n",
      "3627     0\n",
      "27617    0\n",
      "9811     1\n",
      "Name: y, Length: 8238, dtype: int64 KFold(n_splits=10, random_state=101, shuffle=True)\n"
     ]
    }
   ],
   "source": [
    "X_train, X_test, y_train, y_test, k_fold = prepare_data_for_training(bank_final, target, 0.2, 10, 101)\n",
    "print(X_train, X_test, y_train, y_test, k_fold)"
   ]
  },
  {
   "cell_type": "code",
   "execution_count": 32,
   "metadata": {
    "id": "Zx4lCwm3ysZ6"
   },
   "outputs": [],
   "source": [
    "def scale_the_data(X_train, X_test):\n",
    "    sc_X = StandardScaler()\n",
    "    X_train = sc_X.fit_transform(X_train)\n",
    "    X_test = sc_X.transform(X_test)\n",
    "    return X_train, X_test\n"
   ]
  },
  {
   "cell_type": "code",
   "execution_count": 33,
   "metadata": {
    "id": "v3ypxy96As9J"
   },
   "outputs": [
    {
     "name": "stdout",
     "output_type": "stream",
     "text": [
      "[[ 1.37201939  0.60032827 -0.2835433  ...  0.19666714  3.6801034\n",
      "  -2.54973065]\n",
      " [ 1.37201939  1.53367182 -0.2835433  ...  0.19666714 -0.35173005\n",
      "   0.19195995]\n",
      " [-0.40586479  1.06700004 -0.2835433  ...  0.19666714 -0.35173005\n",
      "   0.19195995]\n",
      " ...\n",
      " [-0.40586479 -0.33301528 -0.2835433  ...  0.19666714 -0.35173005\n",
      "   0.19195995]\n",
      " [ 0.4830773  -0.79968705 -0.2835433  ...  0.19666714 -0.35173005\n",
      "   0.19195995]\n",
      " [ 0.4830773  -0.79968705 -0.2835433  ...  0.19666714 -0.35173005\n",
      "   0.19195995]] [[-1.29480688  1.06700004 -0.2835433  ...  0.19666714 -0.35173005\n",
      "   0.19195995]\n",
      " [ 1.37201939  1.53367182  1.35496103 ...  0.19666714 -0.35173005\n",
      "   0.19195995]\n",
      " [-0.40586479  0.36699238  1.35496103 ...  0.19666714 -0.35173005\n",
      "   0.19195995]\n",
      " ...\n",
      " [-1.29480688 -0.79968705  1.35496103 ...  0.19666714 -0.35173005\n",
      "   0.19195995]\n",
      " [-0.40586479  0.83366416 -0.2835433  ...  0.19666714 -0.35173005\n",
      "   0.19195995]\n",
      " [-0.40586479  0.36699238 -0.2835433  ...  0.19666714 -0.35173005\n",
      "   0.19195995]]\n"
     ]
    }
   ],
   "source": [
    "X_train, X_test = scale_the_data(X_train, X_test)\n",
    "print(X_train, X_test)"
   ]
  },
  {
   "cell_type": "markdown",
   "metadata": {},
   "source": [
    "## Логістична Регресія"
   ]
  },
  {
   "cell_type": "code",
   "execution_count": 34,
   "metadata": {
    "id": "TZBcy1C3ysZ6"
   },
   "outputs": [
    {
     "name": "stdout",
     "output_type": "stream",
     "text": [
      "[[7107  172]\n",
      " [ 634  325]]\n",
      "0.9021607186210245\n"
     ]
    }
   ],
   "source": [
    "logmodel = LogisticRegression()\n",
    "logmodel.fit(X_train, y_train)\n",
    "logpred = logmodel.predict(X_test)\n",
    "print(confusion_matrix(y_test, logpred))\n",
    "print(accuracy_score(y_test, logpred))"
   ]
  },
  {
   "cell_type": "markdown",
   "metadata": {},
   "source": [
    "## k-NN"
   ]
  },
  {
   "cell_type": "code",
   "execution_count": 37,
   "metadata": {
    "id": "NHxB-_ZUysZ6"
   },
   "outputs": [
    {
     "name": "stdout",
     "output_type": "stream",
     "text": [
      "[[7150  129]\n",
      " [ 698  261]]\n",
      "0.8996115562029618\n"
     ]
    }
   ],
   "source": [
    "#Neighbors\n",
    "neighbors = np.arange(1, 26)\n",
    "\n",
    "#Create empty list that will hold cv scores\n",
    "cv_scores = [cross_val_score(KNeighborsClassifier(n_neighbors=k), X_train, y_train, cv=k_fold, scoring='accuracy').mean() for k in neighbors]\n",
    "\n",
    "#Perform 10-fold cross validation on training set for odd values of k:\n",
    "optimal_k = neighbors[np.argmax(cv_scores)]\n",
    "knn = KNeighborsClassifier(n_neighbors=optimal_k)\n",
    "knn.fit(X_train, y_train)\n",
    "knnpred = knn.predict(X_test)\n",
    "print(confusion_matrix(y_test, knnpred))\n",
    "print(accuracy_score(y_test, knnpred))"
   ]
  },
  {
   "cell_type": "markdown",
   "metadata": {},
   "source": [
    "## Логістична Регресія"
   ]
  },
  {
   "cell_type": "code",
   "execution_count": 38,
   "metadata": {
    "id": "bIir_TuRysZ7"
   },
   "outputs": [
    {
     "name": "stdout",
     "output_type": "stream",
     "text": [
      "                Models     Score\n",
      "0  Logistic Regression  0.902161\n",
      "1                 k-NN  0.899612\n"
     ]
    }
   ],
   "source": [
    "models = pd.DataFrame({'Models': ['Logistic Regression', 'k-NN'], 'Score': [accuracy_score(y_test, logpred), accuracy_score(y_test, knnpred)]})\n",
    "print(models.sort_values(by='Score', ascending=False))"
   ]
  },
  {
   "cell_type": "markdown",
   "metadata": {
    "id": "mh_Vd_vOysZ7"
   },
   "source": [
    "**Висновки по моделям (детальні)**"
   ]
  },
  {
   "cell_type": "markdown",
   "metadata": {
    "id": "ZK2CADn6ysZ7"
   },
   "source": [
    "1.   \n",
    "2.   \n",
    "3. ..."
   ]
  }
 ],
 "metadata": {
  "colab": {
   "name": "Task5_Classification (1).ipynb",
   "provenance": []
  },
  "kernelspec": {
   "display_name": "Python 3",
   "language": "python",
   "name": "python3"
  },
  "language_info": {
   "codemirror_mode": {
    "name": "ipython",
    "version": 3
   },
   "file_extension": ".py",
   "mimetype": "text/x-python",
   "name": "python",
   "nbconvert_exporter": "python",
   "pygments_lexer": "ipython3",
   "version": "3.11.9"
  }
 },
 "nbformat": 4,
 "nbformat_minor": 4
}
