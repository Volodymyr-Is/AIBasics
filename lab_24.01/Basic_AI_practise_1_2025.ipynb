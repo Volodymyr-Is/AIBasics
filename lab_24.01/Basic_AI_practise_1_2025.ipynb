{
  "cells": [
    {
      "cell_type": "markdown",
      "metadata": {
        "id": "UfI7FZudfGwv"
      },
      "source": [
        "# I. NumPy."
      ]
    },
    {
      "cell_type": "markdown",
      "metadata": {
        "id": "fQcvdlwdimQb"
      },
      "source": [
        "**Оцінювання даної роботи буде ураховувати якість Вашого коду та текстових відповідей. При наявності ЛИШЕ коду , робота оцінюватися НЕ БУДЕ.**  \n",
        "\n",
        "**Оформлення текстових відповідей повинно проводитися в текстових комірках ноутбука з використанням синтаксису [LaTeX](https://en.wikibooks.org/wiki/LaTeX/Basics) для оформлення тексту та формул.**\n",
        "\n",
        "**Роботи ідентифіковані як ІДЕНТИЧНІ одразу отримують 0 балів.**\n",
        "\n",
        "**При реалізації завдань потрібно використовувати методи з бібліотеки numpy та pandas.**\n",
        "\n",
        "**Рішення з циклами будуть оцінені в 0 балів.**"
      ]
    },
    {
      "cell_type": "markdown",
      "metadata": {
        "id": "XmA3PWg8fJxn"
      },
      "source": [
        "0. Імпортувати numpy загальноприйнятим способом."
      ]
    },
    {
      "cell_type": "code",
      "execution_count": 1,
      "metadata": {
        "id": "JUli5tR8eTXG"
      },
      "outputs": [],
      "source": [
        "import numpy as np"
      ]
    },
    {
      "cell_type": "markdown",
      "metadata": {
        "id": "fppWPwoFjTrl"
      },
      "source": [
        "1. Визначити список з оцінками студента(ки) за семестр. Використовуючи його, створити одновимірний масив numpy."
      ]
    },
    {
      "cell_type": "code",
      "execution_count": 3,
      "metadata": {
        "id": "cuvs9lNAjVoB"
      },
      "outputs": [],
      "source": [
        "grades = [1, 2, 3, 4, 5]\n",
        "\n",
        "grades_np = np.array(grades)"
      ]
    },
    {
      "cell_type": "markdown",
      "metadata": {
        "id": "OGeLtAwcjcMB"
      },
      "source": [
        "2. Визначити список зі списками, де кожен рядок списку формально означає магазин, а кожна колонка - певний продукт (батон, яйця першої категорії, молоко та ковбаса), а елементами на пересічі є ціни на ці продукти відповідно. Використовуючи цей список, створити матрицю (двовимірний масив) numpy."
      ]
    },
    {
      "cell_type": "code",
      "execution_count": 4,
      "metadata": {
        "id": "zJ9kEAv5jcVo"
      },
      "outputs": [],
      "source": [
        "prices = [[1, 2, 3, 4, 5],\n",
        "          [6, 7, 8, 9, 10],\n",
        "          [11, 12, 13, 14, 15],\n",
        "          [16, 17, 18, 19, 20]]\n",
        "\n",
        "prices_np = np.array(prices)"
      ]
    },
    {
      "cell_type": "markdown",
      "metadata": {
        "id": "wK7wrEw2jcix"
      },
      "source": [
        "3. Отримайте тип даних значень з масивів завдань 2 та 3. Виведіть їх на екран."
      ]
    },
    {
      "cell_type": "code",
      "execution_count": 5,
      "metadata": {
        "id": "uDBL1x6vjcq9"
      },
      "outputs": [
        {
          "name": "stdout",
          "output_type": "stream",
          "text": [
            "int64\n",
            "int64\n"
          ]
        }
      ],
      "source": [
        "print(grades_np.dtype)\n",
        "print(prices_np.dtype)"
      ]
    },
    {
      "cell_type": "markdown",
      "metadata": {
        "id": "nNhAgsC3jcyp"
      },
      "source": [
        "4. Отримайте форми (кортеж з кількістю рядків та колонок) масивів завдань 2 та 3. Виведіть їх на екран."
      ]
    },
    {
      "cell_type": "code",
      "execution_count": null,
      "metadata": {
        "id": "Fi5oXTI8jc4-"
      },
      "outputs": [],
      "source": [
        "print(grades_np.shape)\n",
        "print(prices_np.shape)"
      ]
    },
    {
      "cell_type": "markdown",
      "metadata": {
        "id": "bpY-N8QZjdW-"
      },
      "source": [
        "5. Створіть одновимірний масив за допомогою спеціальної функції numpy, який би відображав динаміку стабільно зростаючого (з рівними проміжками) прибутку з продажів  за тиждень, де у перший день не було продажів, а в останній день тижня вдалося заробити 1000 грн 50 коп."
      ]
    },
    {
      "cell_type": "code",
      "execution_count": 8,
      "metadata": {
        "id": "r3LcjnUKjdeu"
      },
      "outputs": [
        {
          "name": "stdout",
          "output_type": "stream",
          "text": [
            "[   0.    166.75  333.5   500.25  667.    833.75 1000.5 ]\n"
          ]
        }
      ],
      "source": [
        "profit = np.linspace(0, 1000.5, 7)\n",
        "\n",
        "print(profit)"
      ]
    },
    {
      "cell_type": "markdown",
      "metadata": {
        "id": "zQM0SY9jjebO"
      },
      "source": [
        "6. Створіть два масиви. Використовуючи їх, продемонструйте відмінність вертикального та горизонтального обʼєднання масивів."
      ]
    },
    {
      "cell_type": "code",
      "execution_count": 13,
      "metadata": {
        "id": "8uoi0_lxjeh-"
      },
      "outputs": [
        {
          "name": "stdout",
          "output_type": "stream",
          "text": [
            "[[   0.    166.75  333.5   500.25  667.    833.75 1000.5 ]\n",
            " [   0.    166.75  333.5   500.25  667.    833.75 1000.5 ]]\n",
            "[   0.    166.75  333.5   500.25  667.    833.75 1000.5     0.    166.75\n",
            "  333.5   500.25  667.    833.75 1000.5 ]\n"
          ]
        }
      ],
      "source": [
        "arr1 = np.linspace(0, 1000.5, 7)\n",
        "arr2 = np.linspace(0, 1000.5, 7)\n",
        "\n",
        "vertical_arr = np.vstack((arr1, arr2))\n",
        "horizontal_arr = np.hstack((arr1, arr2))\n",
        "\n",
        "print(vertical_arr)\n",
        "print(horizontal_arr)\n"
      ]
    },
    {
      "cell_type": "markdown",
      "metadata": {
        "id": "Fwh5D1pDm3t7"
      },
      "source": [
        "7. Визначити функцію, яка приймає на вході масив і транспонує його. Скористайтесь методом reshape. І не забудьте почати з docstrings."
      ]
    },
    {
      "cell_type": "code",
      "execution_count": null,
      "metadata": {
        "id": "FSWZq0mkm31Z"
      },
      "outputs": [],
      "source": []
    },
    {
      "cell_type": "markdown",
      "metadata": {
        "id": "Nnxk8vqYm379"
      },
      "source": [
        "8. Створіть два масиви. Використовучи ці масиви, продемонструйте 1) операцію по-елементного додавання, 2) операцію по-елементного віднімання, 3) множення масиву на число, 4) операцію по-елементного множення, і 5) матричного множення."
      ]
    },
    {
      "cell_type": "code",
      "execution_count": 17,
      "metadata": {
        "id": "qO1rfvmVm4BI"
      },
      "outputs": [
        {
          "name": "stdout",
          "output_type": "stream",
          "text": [
            "[ 2  4  6  8 10]\n",
            "[0 0 0 0 0]\n",
            "[ 1  4  9 16 25]\n",
            "[ 3  6  9 12 15]\n"
          ]
        }
      ],
      "source": [
        "arr1 = [1, 2, 3, 4, 5]\n",
        "arr2 = [1, 2, 3, 4, 5]\n",
        "\n",
        "add_result = np.add(arr1, arr2)\n",
        "subtract_result = np.subtract(arr1, arr2)\n",
        "multiply_result = np.multiply(arr1, arr2)\n",
        "multiply_scalar_result = np.multiply(arr1, 3)\n",
        "\n",
        "\n",
        "print(add_result)\n",
        "print(subtract_result)\n",
        "print(multiply_result)\n",
        "print(multiply_scalar_result)\n"
      ]
    },
    {
      "cell_type": "markdown",
      "metadata": {
        "id": "7aGdszTGuMCC"
      },
      "source": [
        "9. Створіть двовимірний масив (матрицю) та розрахуйте: 1) мінімальне число, 2) максимальне число, 3) суму чисел, 4) мінімальні числа для кожного рядка, 5) максимальні числа для кожного стовпчика."
      ]
    },
    {
      "cell_type": "code",
      "execution_count": 18,
      "metadata": {
        "id": "RL_39YdauMKS"
      },
      "outputs": [
        {
          "name": "stdout",
          "output_type": "stream",
          "text": [
            "1\n",
            "20\n",
            "210\n",
            "[ 1  6 11 16]\n",
            "[16 17 18 19 20]\n"
          ]
        }
      ],
      "source": [
        "prices = [[1, 2, 3, 4, 5],\n",
        "          [6, 7, 8, 9, 10],\n",
        "          [11, 12, 13, 14, 15],\n",
        "          [16, 17, 18, 19, 20]]\n",
        "\n",
        "prices_np = np.array(prices)\n",
        "\n",
        "min_value = np.min(prices_np)\n",
        "max_value = np.max(prices_np)\n",
        "sum_value = np.sum(prices_np)\n",
        "min_row_values = np.min(prices_np, axis=1)\n",
        "max_column_values = np.max(prices_np, axis=0)\n",
        "\n",
        "\n",
        "print(min_value)\n",
        "print(max_value)\n",
        "print(sum_value)\n",
        "print(min_row_values)\n",
        "print(max_column_values)"
      ]
    },
    {
      "cell_type": "markdown",
      "metadata": {
        "id": "c_hNdOpjHRFo"
      },
      "source": [
        "10. Створіть матрицю , де деякі елементи повторюються. Знайдіть унікальні значення елементів цієї матриці та їхні частоти."
      ]
    },
    {
      "cell_type": "code",
      "execution_count": 23,
      "metadata": {},
      "outputs": [
        {
          "name": "stdout",
          "output_type": "stream",
          "text": [
            "[ 1  2  3  4  5  6  8  9 10 11 12 14 15 16 18 19]\n",
            "(array([ 1,  2,  3,  4,  5,  6,  8,  9, 10, 11, 12, 14, 15, 16, 18, 19]), array([3, 2, 1, 1, 2, 1, 1, 1, 1, 1, 1, 1, 1, 1, 1, 1]))\n"
          ]
        }
      ],
      "source": [
        "matrix = [[1, 2, 3, 4, 5],\n",
        "          [6, 1, 8, 9, 10],\n",
        "          [11, 12, 1, 14, 15],\n",
        "          [16, 5, 18, 19, 2]]\n",
        "\n",
        "unique_values = np.unique(matrix)\n",
        "counts = np.unique(matrix, return_counts=True)\n",
        "\n",
        "print(unique_values)\n",
        "print(counts)"
      ]
    },
    {
      "cell_type": "markdown",
      "metadata": {
        "id": "Usj7tyjnprEV"
      },
      "source": [
        "# II. Importing. Creating DF"
      ]
    },
    {
      "cell_type": "markdown",
      "metadata": {
        "id": "ePGNrYa6pxRY"
      },
      "source": [
        "0. Імпортувати бібліотеку pandas"
      ]
    },
    {
      "cell_type": "code",
      "execution_count": 3,
      "metadata": {
        "id": "KIPDNBqQpvkI"
      },
      "outputs": [],
      "source": [
        "import pandas as pd"
      ]
    },
    {
      "cell_type": "markdown",
      "metadata": {
        "id": "8g9-hgi5qWJv"
      },
      "source": [
        "11. Створити тестовий датафрейм зі списку, що містить записи пацієнтів про їхні прізвища, імена, дату народження, масу тіла та наявність медичного страхування. Одне зі значень зробить пустим. Ознайомтесь з типом кожної колонки."
      ]
    },
    {
      "cell_type": "code",
      "execution_count": null,
      "metadata": {
        "id": "OvA4GvJ5qYb1"
      },
      "outputs": [],
      "source": [
        "data = {\n",
        "    'Name': ['John', 'Anna', 'Peter', 'Lisa', ''],\n",
        "    'Surname': ['Doe', 'Smith', 'Johnson', 'Williams', 'Brown'],\n",
        "    'Birthdate': ['1990-05-15', '1985-12-03', '1988-01-22', '1992-07-18', ''],\n",
        "    'Weight': [75, 68, 82, 70, ''],\n",
        "    'Medical_insurance': [True, False, True, True, False]\n",
        "}\n",
        "\n",
        "df = pd.DataFrame(data)"
      ]
    },
    {
      "cell_type": "markdown",
      "metadata": {
        "id": "b1SvVHjjqcv-"
      },
      "source": [
        "# III. Reading from file"
      ]
    },
    {
      "cell_type": "markdown",
      "metadata": {
        "id": "7HhZWLs_qhgq"
      },
      "source": [
        "12. Завантажити файл missile_attacks_daily.csv з [Kaggle](https://www.kaggle.com/datasets/piterfm/massive-missile-attacks-on-ukraine?select=missile_attacks_daily.csv). Ознайомитись з описом датасету. Додати файл до папки поточної сесії colab notebook на панелі ліворуч або на гугл диск (локально до проєкту, якщо працюєте у пайчармі). Зчитати датафрейм з файлу та вивести датафрейм на екран. Зверніть увагу на те, щоб всі колонки відповідали наведеним у описі типам даних."
      ]
    },
    {
      "cell_type": "code",
      "execution_count": 7,
      "metadata": {
        "id": "oQcB3kIqqg0h"
      },
      "outputs": [],
      "source": [
        "df = pd.read_csv('missile_attacks_daily.csv')"
      ]
    },
    {
      "cell_type": "markdown",
      "metadata": {
        "id": "89zu0WNErzd2"
      },
      "source": [
        "# IV. Data understanding"
      ]
    },
    {
      "cell_type": "markdown",
      "metadata": {
        "id": "LJqrTfHr2d1G"
      },
      "source": [
        "13. Виведіть на екран перші 10 рядків зчитаного датафрейму."
      ]
    },
    {
      "cell_type": "code",
      "execution_count": 5,
      "metadata": {
        "id": "GdVE9WYwr1sD"
      },
      "outputs": [
        {
          "data": {
            "text/html": [
              "<div>\n",
              "<style scoped>\n",
              "    .dataframe tbody tr th:only-of-type {\n",
              "        vertical-align: middle;\n",
              "    }\n",
              "\n",
              "    .dataframe tbody tr th {\n",
              "        vertical-align: top;\n",
              "    }\n",
              "\n",
              "    .dataframe thead th {\n",
              "        text-align: right;\n",
              "    }\n",
              "</style>\n",
              "<table border=\"1\" class=\"dataframe\">\n",
              "  <thead>\n",
              "    <tr style=\"text-align: right;\">\n",
              "      <th></th>\n",
              "      <th>time_start</th>\n",
              "      <th>time_end</th>\n",
              "      <th>model</th>\n",
              "      <th>launch_place</th>\n",
              "      <th>target</th>\n",
              "      <th>carrier</th>\n",
              "      <th>launched</th>\n",
              "      <th>destroyed</th>\n",
              "      <th>not_reach_goal</th>\n",
              "      <th>cross_border_belarus</th>\n",
              "      <th>back_russia</th>\n",
              "      <th>still_attacking</th>\n",
              "      <th>destroyed_details</th>\n",
              "      <th>launched_details</th>\n",
              "      <th>launch_place_details</th>\n",
              "      <th>source</th>\n",
              "    </tr>\n",
              "  </thead>\n",
              "  <tbody>\n",
              "    <tr>\n",
              "      <th>0</th>\n",
              "      <td>2025-01-18 20:00</td>\n",
              "      <td>2025-01-19 09:00</td>\n",
              "      <td>Shahed-136/131</td>\n",
              "      <td>Bryansk oblast and Oryol oblast and Millerovo</td>\n",
              "      <td>Ukraine</td>\n",
              "      <td>NaN</td>\n",
              "      <td>61.0</td>\n",
              "      <td>43</td>\n",
              "      <td>15.0</td>\n",
              "      <td>NaN</td>\n",
              "      <td>NaN</td>\n",
              "      <td>1.0</td>\n",
              "      <td>{'Mykolaiv oblast': NaN,    'Kyiv oblast': NaN...</td>\n",
              "      <td>NaN</td>\n",
              "      <td>NaN</td>\n",
              "      <td>kpszsu/posts/pfbid0meYNAsX4voALE4SXunVpzKTwzrJ...</td>\n",
              "    </tr>\n",
              "    <tr>\n",
              "      <th>1</th>\n",
              "      <td>2025-01-17 19:00</td>\n",
              "      <td>2025-01-18 08:00</td>\n",
              "      <td>Shahed-136/131</td>\n",
              "      <td>Primorsko-Akhtarsk and Bryansk oblast and Mill...</td>\n",
              "      <td>Ukraine</td>\n",
              "      <td>NaN</td>\n",
              "      <td>39.0</td>\n",
              "      <td>24</td>\n",
              "      <td>14.0</td>\n",
              "      <td>NaN</td>\n",
              "      <td>NaN</td>\n",
              "      <td>NaN</td>\n",
              "      <td>{'Kherson oblast': NaN, 'Khmelnytskyi oblast':...</td>\n",
              "      <td>NaN</td>\n",
              "      <td>NaN</td>\n",
              "      <td>kpszsu/posts/pfbid0Rpzfu7u9ERu4o49Gm12eqSogKvZ...</td>\n",
              "    </tr>\n",
              "    <tr>\n",
              "      <th>2</th>\n",
              "      <td>2025-01-16 19:00</td>\n",
              "      <td>2025-01-17 09:00</td>\n",
              "      <td>Shahed-136/131</td>\n",
              "      <td>Primorsko-Akhtarsk and Kursk oblast and Bryans...</td>\n",
              "      <td>Ukraine</td>\n",
              "      <td>NaN</td>\n",
              "      <td>50.0</td>\n",
              "      <td>33</td>\n",
              "      <td>9.0</td>\n",
              "      <td>NaN</td>\n",
              "      <td>NaN</td>\n",
              "      <td>NaN</td>\n",
              "      <td>{'Odesa oblast and Mykolaiv oblast': 7, 'Khmel...</td>\n",
              "      <td>NaN</td>\n",
              "      <td>NaN</td>\n",
              "      <td>kpszsu/posts/pfbid0Gvye9Wn2gj8RPiiGaTQFGRas9Yg...</td>\n",
              "    </tr>\n",
              "    <tr>\n",
              "      <th>3</th>\n",
              "      <td>2025-01-16 19:00</td>\n",
              "      <td>2025-01-17 09:00</td>\n",
              "      <td>Iskander-M/KN-23</td>\n",
              "      <td>Bryansk oblast and Voronezh oblast</td>\n",
              "      <td>Kyiv oblast</td>\n",
              "      <td>NaN</td>\n",
              "      <td>4.0</td>\n",
              "      <td>2</td>\n",
              "      <td>NaN</td>\n",
              "      <td>NaN</td>\n",
              "      <td>NaN</td>\n",
              "      <td>NaN</td>\n",
              "      <td>NaN</td>\n",
              "      <td>NaN</td>\n",
              "      <td>NaN</td>\n",
              "      <td>kpszsu/posts/pfbid0Rpzfu7u9ERu4o49Gm12eqSogKvZ...</td>\n",
              "    </tr>\n",
              "    <tr>\n",
              "      <th>4</th>\n",
              "      <td>2025-01-16 19:00</td>\n",
              "      <td>2025-01-17 09:00</td>\n",
              "      <td>Iskander-M</td>\n",
              "      <td>Rostov oblast</td>\n",
              "      <td>Ukraine</td>\n",
              "      <td>NaN</td>\n",
              "      <td>2.0</td>\n",
              "      <td>0</td>\n",
              "      <td>NaN</td>\n",
              "      <td>NaN</td>\n",
              "      <td>NaN</td>\n",
              "      <td>NaN</td>\n",
              "      <td>NaN</td>\n",
              "      <td>NaN</td>\n",
              "      <td>NaN</td>\n",
              "      <td>kpszsu/posts/pfbid0Gvye9Wn2gj8RPiiGaTQFGRas9Yg...</td>\n",
              "    </tr>\n",
              "    <tr>\n",
              "      <th>5</th>\n",
              "      <td>2025-01-15 20:00</td>\n",
              "      <td>2025-01-16 09:00</td>\n",
              "      <td>Shahed-136/131</td>\n",
              "      <td>Primorsko-Akhtarsk and Bryansk oblast and Oryo...</td>\n",
              "      <td>Ukraine</td>\n",
              "      <td>NaN</td>\n",
              "      <td>55.0</td>\n",
              "      <td>34</td>\n",
              "      <td>18.0</td>\n",
              "      <td>NaN</td>\n",
              "      <td>NaN</td>\n",
              "      <td>NaN</td>\n",
              "      <td>{'Mykolaiv oblast': 5, 'Kyiv oblast': NaN, 'Su...</td>\n",
              "      <td>NaN</td>\n",
              "      <td>NaN</td>\n",
              "      <td>kpszsu/posts/pfbid0tPwzQHvvr63PbehDshED2WNV2vm...</td>\n",
              "    </tr>\n",
              "    <tr>\n",
              "      <th>6</th>\n",
              "      <td>2025-01-15 06:00</td>\n",
              "      <td>2025-01-15 08:00</td>\n",
              "      <td>X-59/X-69</td>\n",
              "      <td>Belgorod oblast</td>\n",
              "      <td>Ukraine</td>\n",
              "      <td>NaN</td>\n",
              "      <td>4.0</td>\n",
              "      <td>4</td>\n",
              "      <td>NaN</td>\n",
              "      <td>NaN</td>\n",
              "      <td>NaN</td>\n",
              "      <td>NaN</td>\n",
              "      <td>NaN</td>\n",
              "      <td>NaN</td>\n",
              "      <td>NaN</td>\n",
              "      <td>kpszsu/posts/pfbid0kLxxfDQRTeUt5wQT5eahJVkW1fb...</td>\n",
              "    </tr>\n",
              "    <tr>\n",
              "      <th>7</th>\n",
              "      <td>2025-01-15 06:00</td>\n",
              "      <td>2025-01-15 08:00</td>\n",
              "      <td>X-22/X-32</td>\n",
              "      <td>Tula oblast</td>\n",
              "      <td>Ukraine</td>\n",
              "      <td>Tu-22M3</td>\n",
              "      <td>7.0</td>\n",
              "      <td>0</td>\n",
              "      <td>NaN</td>\n",
              "      <td>NaN</td>\n",
              "      <td>NaN</td>\n",
              "      <td>NaN</td>\n",
              "      <td>NaN</td>\n",
              "      <td>NaN</td>\n",
              "      <td>NaN</td>\n",
              "      <td>kpszsu/posts/pfbid0kLxxfDQRTeUt5wQT5eahJVkW1fb...</td>\n",
              "    </tr>\n",
              "    <tr>\n",
              "      <th>8</th>\n",
              "      <td>2025-01-15 06:00</td>\n",
              "      <td>2025-01-15 08:00</td>\n",
              "      <td>X-101/X-555</td>\n",
              "      <td>Volgograd oblast</td>\n",
              "      <td>Ukraine</td>\n",
              "      <td>Tu-95MS</td>\n",
              "      <td>27.0</td>\n",
              "      <td>23</td>\n",
              "      <td>NaN</td>\n",
              "      <td>NaN</td>\n",
              "      <td>NaN</td>\n",
              "      <td>NaN</td>\n",
              "      <td>{'west': 20}</td>\n",
              "      <td>NaN</td>\n",
              "      <td>NaN</td>\n",
              "      <td>kpszsu/posts/pfbid0kLxxfDQRTeUt5wQT5eahJVkW1fb...</td>\n",
              "    </tr>\n",
              "    <tr>\n",
              "      <th>9</th>\n",
              "      <td>2025-01-15 06:00</td>\n",
              "      <td>2025-01-15 08:00</td>\n",
              "      <td>Kalibr</td>\n",
              "      <td>Black Sea</td>\n",
              "      <td>Ukraine</td>\n",
              "      <td>Navi</td>\n",
              "      <td>4.0</td>\n",
              "      <td>3</td>\n",
              "      <td>NaN</td>\n",
              "      <td>NaN</td>\n",
              "      <td>NaN</td>\n",
              "      <td>NaN</td>\n",
              "      <td>{'south': 1}</td>\n",
              "      <td>NaN</td>\n",
              "      <td>NaN</td>\n",
              "      <td>kpszsu/posts/pfbid0kLxxfDQRTeUt5wQT5eahJVkW1fb...</td>\n",
              "    </tr>\n",
              "  </tbody>\n",
              "</table>\n",
              "</div>"
            ],
            "text/plain": [
              "         time_start          time_end             model  \\\n",
              "0  2025-01-18 20:00  2025-01-19 09:00    Shahed-136/131   \n",
              "1  2025-01-17 19:00  2025-01-18 08:00    Shahed-136/131   \n",
              "2  2025-01-16 19:00  2025-01-17 09:00    Shahed-136/131   \n",
              "3  2025-01-16 19:00  2025-01-17 09:00  Iskander-M/KN-23   \n",
              "4  2025-01-16 19:00  2025-01-17 09:00        Iskander-M   \n",
              "5  2025-01-15 20:00  2025-01-16 09:00    Shahed-136/131   \n",
              "6  2025-01-15 06:00  2025-01-15 08:00         X-59/X-69   \n",
              "7  2025-01-15 06:00  2025-01-15 08:00         X-22/X-32   \n",
              "8  2025-01-15 06:00  2025-01-15 08:00       X-101/X-555   \n",
              "9  2025-01-15 06:00  2025-01-15 08:00            Kalibr   \n",
              "\n",
              "                                        launch_place       target  carrier  \\\n",
              "0      Bryansk oblast and Oryol oblast and Millerovo      Ukraine      NaN   \n",
              "1  Primorsko-Akhtarsk and Bryansk oblast and Mill...      Ukraine      NaN   \n",
              "2  Primorsko-Akhtarsk and Kursk oblast and Bryans...      Ukraine      NaN   \n",
              "3                 Bryansk oblast and Voronezh oblast  Kyiv oblast      NaN   \n",
              "4                                      Rostov oblast      Ukraine      NaN   \n",
              "5  Primorsko-Akhtarsk and Bryansk oblast and Oryo...      Ukraine      NaN   \n",
              "6                                    Belgorod oblast      Ukraine      NaN   \n",
              "7                                        Tula oblast      Ukraine  Tu-22M3   \n",
              "8                                   Volgograd oblast      Ukraine  Tu-95MS   \n",
              "9                                          Black Sea      Ukraine     Navi   \n",
              "\n",
              "   launched  destroyed  not_reach_goal  cross_border_belarus  back_russia  \\\n",
              "0      61.0         43            15.0                   NaN          NaN   \n",
              "1      39.0         24            14.0                   NaN          NaN   \n",
              "2      50.0         33             9.0                   NaN          NaN   \n",
              "3       4.0          2             NaN                   NaN          NaN   \n",
              "4       2.0          0             NaN                   NaN          NaN   \n",
              "5      55.0         34            18.0                   NaN          NaN   \n",
              "6       4.0          4             NaN                   NaN          NaN   \n",
              "7       7.0          0             NaN                   NaN          NaN   \n",
              "8      27.0         23             NaN                   NaN          NaN   \n",
              "9       4.0          3             NaN                   NaN          NaN   \n",
              "\n",
              "   still_attacking                                  destroyed_details  \\\n",
              "0              1.0  {'Mykolaiv oblast': NaN,    'Kyiv oblast': NaN...   \n",
              "1              NaN  {'Kherson oblast': NaN, 'Khmelnytskyi oblast':...   \n",
              "2              NaN  {'Odesa oblast and Mykolaiv oblast': 7, 'Khmel...   \n",
              "3              NaN                                                NaN   \n",
              "4              NaN                                                NaN   \n",
              "5              NaN  {'Mykolaiv oblast': 5, 'Kyiv oblast': NaN, 'Su...   \n",
              "6              NaN                                                NaN   \n",
              "7              NaN                                                NaN   \n",
              "8              NaN                                       {'west': 20}   \n",
              "9              NaN                                       {'south': 1}   \n",
              "\n",
              "  launched_details launch_place_details  \\\n",
              "0              NaN                  NaN   \n",
              "1              NaN                  NaN   \n",
              "2              NaN                  NaN   \n",
              "3              NaN                  NaN   \n",
              "4              NaN                  NaN   \n",
              "5              NaN                  NaN   \n",
              "6              NaN                  NaN   \n",
              "7              NaN                  NaN   \n",
              "8              NaN                  NaN   \n",
              "9              NaN                  NaN   \n",
              "\n",
              "                                              source  \n",
              "0  kpszsu/posts/pfbid0meYNAsX4voALE4SXunVpzKTwzrJ...  \n",
              "1  kpszsu/posts/pfbid0Rpzfu7u9ERu4o49Gm12eqSogKvZ...  \n",
              "2  kpszsu/posts/pfbid0Gvye9Wn2gj8RPiiGaTQFGRas9Yg...  \n",
              "3  kpszsu/posts/pfbid0Rpzfu7u9ERu4o49Gm12eqSogKvZ...  \n",
              "4  kpszsu/posts/pfbid0Gvye9Wn2gj8RPiiGaTQFGRas9Yg...  \n",
              "5  kpszsu/posts/pfbid0tPwzQHvvr63PbehDshED2WNV2vm...  \n",
              "6  kpszsu/posts/pfbid0kLxxfDQRTeUt5wQT5eahJVkW1fb...  \n",
              "7  kpszsu/posts/pfbid0kLxxfDQRTeUt5wQT5eahJVkW1fb...  \n",
              "8  kpszsu/posts/pfbid0kLxxfDQRTeUt5wQT5eahJVkW1fb...  \n",
              "9  kpszsu/posts/pfbid0kLxxfDQRTeUt5wQT5eahJVkW1fb...  "
            ]
          },
          "execution_count": 5,
          "metadata": {},
          "output_type": "execute_result"
        }
      ],
      "source": [
        "df.head(10)"
      ]
    },
    {
      "cell_type": "markdown",
      "metadata": {
        "id": "1PtkLHWj2lq0"
      },
      "source": [
        "14. Отримайте інформацію про форму датафрейму."
      ]
    },
    {
      "cell_type": "code",
      "execution_count": 8,
      "metadata": {
        "id": "CBPTYTjV2mtG"
      },
      "outputs": [
        {
          "name": "stdout",
          "output_type": "stream",
          "text": [
            "(2044, 16)\n"
          ]
        }
      ],
      "source": [
        "print(df.shape)"
      ]
    },
    {
      "cell_type": "markdown",
      "metadata": {
        "id": "GDVcFC6F2yVz"
      },
      "source": [
        "15. Отримайте дані про кожну колонку з її назвою, типом даних та кількістю непустих значень."
      ]
    },
    {
      "cell_type": "code",
      "execution_count": 10,
      "metadata": {
        "id": "GTRgfKJ920bn"
      },
      "outputs": [
        {
          "name": "stdout",
          "output_type": "stream",
          "text": [
            "<class 'pandas.core.frame.DataFrame'>\n",
            "RangeIndex: 2044 entries, 0 to 2043\n",
            "Data columns (total 16 columns):\n",
            " #   Column                Non-Null Count  Dtype  \n",
            "---  ------                --------------  -----  \n",
            " 0   time_start            2044 non-null   object \n",
            " 1   time_end              2044 non-null   object \n",
            " 2   model                 2044 non-null   object \n",
            " 3   launch_place          1023 non-null   object \n",
            " 4   target                2016 non-null   object \n",
            " 5   carrier               225 non-null    object \n",
            " 6   launched              2041 non-null   float64\n",
            " 7   destroyed             2044 non-null   int64  \n",
            " 8   not_reach_goal        157 non-null    float64\n",
            " 9   cross_border_belarus  32 non-null     float64\n",
            " 10  back_russia           34 non-null     float64\n",
            " 11  still_attacking       28 non-null     float64\n",
            " 12  destroyed_details     294 non-null    object \n",
            " 13  launched_details      4 non-null      object \n",
            " 14  launch_place_details  4 non-null      object \n",
            " 15  source                2044 non-null   object \n",
            "dtypes: float64(5), int64(1), object(10)\n",
            "memory usage: 255.6+ KB\n",
            "None\n"
          ]
        }
      ],
      "source": [
        "print(df.info())"
      ]
    },
    {
      "cell_type": "markdown",
      "metadata": {
        "id": "DEy-hgsw2452"
      },
      "source": [
        "16. Отримайте статистику для колонок числового типу."
      ]
    },
    {
      "cell_type": "code",
      "execution_count": 11,
      "metadata": {
        "id": "94mI2N9t267Q"
      },
      "outputs": [
        {
          "name": "stdout",
          "output_type": "stream",
          "text": [
            "          launched    destroyed  not_reach_goal  cross_border_belarus  \\\n",
            "count  2041.000000  2044.000000      157.000000             32.000000   \n",
            "mean     10.609995     7.491683       20.828025              2.312500   \n",
            "std      21.041038    14.190972       19.877245              2.054696   \n",
            "min       1.000000     0.000000        1.000000              1.000000   \n",
            "25%       1.000000     1.000000        4.000000              1.000000   \n",
            "50%       2.000000     1.000000       16.000000              2.000000   \n",
            "75%       9.000000     7.000000       30.000000              2.000000   \n",
            "max     193.000000    99.000000      105.000000             10.000000   \n",
            "\n",
            "       back_russia  still_attacking  \n",
            "count    34.000000        28.000000  \n",
            "mean      2.000000         2.821429  \n",
            "std       1.154701         2.931989  \n",
            "min       1.000000         1.000000  \n",
            "25%       1.000000         1.000000  \n",
            "50%       2.000000         1.000000  \n",
            "75%       3.000000         4.000000  \n",
            "max       5.000000        10.000000  \n"
          ]
        }
      ],
      "source": [
        "print(df.describe())"
      ]
    },
    {
      "cell_type": "markdown",
      "metadata": {
        "id": "n0MGJU2C2-iD"
      },
      "source": [
        "17. Отримати кількість унікальних значень у кожній колонці. Вивести на екран значення та кількість цих значень у колонці, яка має найменше унікальних значень."
      ]
    },
    {
      "cell_type": "code",
      "execution_count": 12,
      "metadata": {
        "id": "lQh_jdGe3BK5"
      },
      "outputs": [
        {
          "name": "stdout",
          "output_type": "stream",
          "text": [
            "time_start               864\n",
            "time_end                1015\n",
            "model                     61\n",
            "launch_place             135\n",
            "target                    97\n",
            "carrier                   58\n",
            "launched                 113\n",
            "destroyed                 81\n",
            "not_reach_goal            55\n",
            "cross_border_belarus       7\n",
            "back_russia                5\n",
            "still_attacking            8\n",
            "destroyed_details        290\n",
            "launched_details           4\n",
            "launch_place_details       4\n",
            "source                   960\n",
            "dtype: int64\n"
          ]
        }
      ],
      "source": [
        "print(df.nunique())"
      ]
    },
    {
      "cell_type": "code",
      "execution_count": null,
      "metadata": {
        "id": "BlAeyE2q3tgd"
      },
      "outputs": [],
      "source": [
        "# Виправити порожні дані (очистити чи заповнити)\n",
        "# Позбавитись від повторюваних значень"
      ]
    },
    {
      "cell_type": "markdown",
      "metadata": {
        "id": "iVRkzUti3uC_"
      },
      "source": [
        "18. На основі отриманої інформації про датасет вище, опишіть по пунктах, що б ви виправили або на що б звернули увагу на кроці очищення даних і чому?"
      ]
    },
    {
      "cell_type": "markdown",
      "metadata": {
        "id": "9_Q-Fcuo30zY"
      },
      "source": [
        "**місце для текстової відповіді**\n",
        "\n",
        "1.   Пункт списку\n",
        "2.   Пункт списку\n",
        "\n",
        "...\n"
      ]
    },
    {
      "cell_type": "markdown",
      "metadata": {
        "id": "Ue9ECz5-3_pq"
      },
      "source": [
        "# V. Data Cleaning"
      ]
    },
    {
      "cell_type": "markdown",
      "metadata": {
        "id": "ZtHUiSrV4CL-"
      },
      "source": [
        "19. Перетворити колонку launched у цілочислену (Int64). Перевірити, чи все пройшло, як очікувалось."
      ]
    },
    {
      "cell_type": "code",
      "execution_count": 14,
      "metadata": {
        "id": "AWyo_-Un3xqz"
      },
      "outputs": [],
      "source": [
        "df['launched'] = df['launched'].astype('Int64')"
      ]
    },
    {
      "cell_type": "markdown",
      "metadata": {
        "id": "KsHhM4EM4O3d"
      },
      "source": [
        "20. Видалити колонки, де кількість непустих значень становить менше 30% від загальної кількості записів."
      ]
    },
    {
      "cell_type": "code",
      "execution_count": 18,
      "metadata": {
        "id": "Z1ZCclle4Vyk"
      },
      "outputs": [
        {
          "data": {
            "text/html": [
              "<div>\n",
              "<style scoped>\n",
              "    .dataframe tbody tr th:only-of-type {\n",
              "        vertical-align: middle;\n",
              "    }\n",
              "\n",
              "    .dataframe tbody tr th {\n",
              "        vertical-align: top;\n",
              "    }\n",
              "\n",
              "    .dataframe thead th {\n",
              "        text-align: right;\n",
              "    }\n",
              "</style>\n",
              "<table border=\"1\" class=\"dataframe\">\n",
              "  <thead>\n",
              "    <tr style=\"text-align: right;\">\n",
              "      <th></th>\n",
              "      <th>time_start</th>\n",
              "      <th>time_end</th>\n",
              "      <th>model</th>\n",
              "      <th>launch_place</th>\n",
              "      <th>target</th>\n",
              "      <th>launched</th>\n",
              "      <th>destroyed</th>\n",
              "      <th>source</th>\n",
              "    </tr>\n",
              "  </thead>\n",
              "  <tbody>\n",
              "    <tr>\n",
              "      <th>0</th>\n",
              "      <td>2025-01-18 20:00</td>\n",
              "      <td>2025-01-19 09:00</td>\n",
              "      <td>Shahed-136/131</td>\n",
              "      <td>Bryansk oblast and Oryol oblast and Millerovo</td>\n",
              "      <td>Ukraine</td>\n",
              "      <td>61</td>\n",
              "      <td>43</td>\n",
              "      <td>kpszsu/posts/pfbid0meYNAsX4voALE4SXunVpzKTwzrJ...</td>\n",
              "    </tr>\n",
              "    <tr>\n",
              "      <th>1</th>\n",
              "      <td>2025-01-17 19:00</td>\n",
              "      <td>2025-01-18 08:00</td>\n",
              "      <td>Shahed-136/131</td>\n",
              "      <td>Primorsko-Akhtarsk and Bryansk oblast and Mill...</td>\n",
              "      <td>Ukraine</td>\n",
              "      <td>39</td>\n",
              "      <td>24</td>\n",
              "      <td>kpszsu/posts/pfbid0Rpzfu7u9ERu4o49Gm12eqSogKvZ...</td>\n",
              "    </tr>\n",
              "    <tr>\n",
              "      <th>2</th>\n",
              "      <td>2025-01-16 19:00</td>\n",
              "      <td>2025-01-17 09:00</td>\n",
              "      <td>Shahed-136/131</td>\n",
              "      <td>Primorsko-Akhtarsk and Kursk oblast and Bryans...</td>\n",
              "      <td>Ukraine</td>\n",
              "      <td>50</td>\n",
              "      <td>33</td>\n",
              "      <td>kpszsu/posts/pfbid0Gvye9Wn2gj8RPiiGaTQFGRas9Yg...</td>\n",
              "    </tr>\n",
              "    <tr>\n",
              "      <th>3</th>\n",
              "      <td>2025-01-16 19:00</td>\n",
              "      <td>2025-01-17 09:00</td>\n",
              "      <td>Iskander-M/KN-23</td>\n",
              "      <td>Bryansk oblast and Voronezh oblast</td>\n",
              "      <td>Kyiv oblast</td>\n",
              "      <td>4</td>\n",
              "      <td>2</td>\n",
              "      <td>kpszsu/posts/pfbid0Rpzfu7u9ERu4o49Gm12eqSogKvZ...</td>\n",
              "    </tr>\n",
              "    <tr>\n",
              "      <th>4</th>\n",
              "      <td>2025-01-16 19:00</td>\n",
              "      <td>2025-01-17 09:00</td>\n",
              "      <td>Iskander-M</td>\n",
              "      <td>Rostov oblast</td>\n",
              "      <td>Ukraine</td>\n",
              "      <td>2</td>\n",
              "      <td>0</td>\n",
              "      <td>kpszsu/posts/pfbid0Gvye9Wn2gj8RPiiGaTQFGRas9Yg...</td>\n",
              "    </tr>\n",
              "    <tr>\n",
              "      <th>5</th>\n",
              "      <td>2025-01-15 20:00</td>\n",
              "      <td>2025-01-16 09:00</td>\n",
              "      <td>Shahed-136/131</td>\n",
              "      <td>Primorsko-Akhtarsk and Bryansk oblast and Oryo...</td>\n",
              "      <td>Ukraine</td>\n",
              "      <td>55</td>\n",
              "      <td>34</td>\n",
              "      <td>kpszsu/posts/pfbid0tPwzQHvvr63PbehDshED2WNV2vm...</td>\n",
              "    </tr>\n",
              "    <tr>\n",
              "      <th>6</th>\n",
              "      <td>2025-01-15 06:00</td>\n",
              "      <td>2025-01-15 08:00</td>\n",
              "      <td>X-59/X-69</td>\n",
              "      <td>Belgorod oblast</td>\n",
              "      <td>Ukraine</td>\n",
              "      <td>4</td>\n",
              "      <td>4</td>\n",
              "      <td>kpszsu/posts/pfbid0kLxxfDQRTeUt5wQT5eahJVkW1fb...</td>\n",
              "    </tr>\n",
              "    <tr>\n",
              "      <th>7</th>\n",
              "      <td>2025-01-15 06:00</td>\n",
              "      <td>2025-01-15 08:00</td>\n",
              "      <td>X-22/X-32</td>\n",
              "      <td>Tula oblast</td>\n",
              "      <td>Ukraine</td>\n",
              "      <td>7</td>\n",
              "      <td>0</td>\n",
              "      <td>kpszsu/posts/pfbid0kLxxfDQRTeUt5wQT5eahJVkW1fb...</td>\n",
              "    </tr>\n",
              "    <tr>\n",
              "      <th>8</th>\n",
              "      <td>2025-01-15 06:00</td>\n",
              "      <td>2025-01-15 08:00</td>\n",
              "      <td>X-101/X-555</td>\n",
              "      <td>Volgograd oblast</td>\n",
              "      <td>Ukraine</td>\n",
              "      <td>27</td>\n",
              "      <td>23</td>\n",
              "      <td>kpszsu/posts/pfbid0kLxxfDQRTeUt5wQT5eahJVkW1fb...</td>\n",
              "    </tr>\n",
              "    <tr>\n",
              "      <th>9</th>\n",
              "      <td>2025-01-15 06:00</td>\n",
              "      <td>2025-01-15 08:00</td>\n",
              "      <td>Kalibr</td>\n",
              "      <td>Black Sea</td>\n",
              "      <td>Ukraine</td>\n",
              "      <td>4</td>\n",
              "      <td>3</td>\n",
              "      <td>kpszsu/posts/pfbid0kLxxfDQRTeUt5wQT5eahJVkW1fb...</td>\n",
              "    </tr>\n",
              "  </tbody>\n",
              "</table>\n",
              "</div>"
            ],
            "text/plain": [
              "         time_start          time_end             model  \\\n",
              "0  2025-01-18 20:00  2025-01-19 09:00    Shahed-136/131   \n",
              "1  2025-01-17 19:00  2025-01-18 08:00    Shahed-136/131   \n",
              "2  2025-01-16 19:00  2025-01-17 09:00    Shahed-136/131   \n",
              "3  2025-01-16 19:00  2025-01-17 09:00  Iskander-M/KN-23   \n",
              "4  2025-01-16 19:00  2025-01-17 09:00        Iskander-M   \n",
              "5  2025-01-15 20:00  2025-01-16 09:00    Shahed-136/131   \n",
              "6  2025-01-15 06:00  2025-01-15 08:00         X-59/X-69   \n",
              "7  2025-01-15 06:00  2025-01-15 08:00         X-22/X-32   \n",
              "8  2025-01-15 06:00  2025-01-15 08:00       X-101/X-555   \n",
              "9  2025-01-15 06:00  2025-01-15 08:00            Kalibr   \n",
              "\n",
              "                                        launch_place       target  launched  \\\n",
              "0      Bryansk oblast and Oryol oblast and Millerovo      Ukraine        61   \n",
              "1  Primorsko-Akhtarsk and Bryansk oblast and Mill...      Ukraine        39   \n",
              "2  Primorsko-Akhtarsk and Kursk oblast and Bryans...      Ukraine        50   \n",
              "3                 Bryansk oblast and Voronezh oblast  Kyiv oblast         4   \n",
              "4                                      Rostov oblast      Ukraine         2   \n",
              "5  Primorsko-Akhtarsk and Bryansk oblast and Oryo...      Ukraine        55   \n",
              "6                                    Belgorod oblast      Ukraine         4   \n",
              "7                                        Tula oblast      Ukraine         7   \n",
              "8                                   Volgograd oblast      Ukraine        27   \n",
              "9                                          Black Sea      Ukraine         4   \n",
              "\n",
              "   destroyed                                             source  \n",
              "0         43  kpszsu/posts/pfbid0meYNAsX4voALE4SXunVpzKTwzrJ...  \n",
              "1         24  kpszsu/posts/pfbid0Rpzfu7u9ERu4o49Gm12eqSogKvZ...  \n",
              "2         33  kpszsu/posts/pfbid0Gvye9Wn2gj8RPiiGaTQFGRas9Yg...  \n",
              "3          2  kpszsu/posts/pfbid0Rpzfu7u9ERu4o49Gm12eqSogKvZ...  \n",
              "4          0  kpszsu/posts/pfbid0Gvye9Wn2gj8RPiiGaTQFGRas9Yg...  \n",
              "5         34  kpszsu/posts/pfbid0tPwzQHvvr63PbehDshED2WNV2vm...  \n",
              "6          4  kpszsu/posts/pfbid0kLxxfDQRTeUt5wQT5eahJVkW1fb...  \n",
              "7          0  kpszsu/posts/pfbid0kLxxfDQRTeUt5wQT5eahJVkW1fb...  \n",
              "8         23  kpszsu/posts/pfbid0kLxxfDQRTeUt5wQT5eahJVkW1fb...  \n",
              "9          3  kpszsu/posts/pfbid0kLxxfDQRTeUt5wQT5eahJVkW1fb...  "
            ]
          },
          "execution_count": 18,
          "metadata": {},
          "output_type": "execute_result"
        }
      ],
      "source": [
        "df_cleaned = df.dropna(thresh=len(df)*0.3, axis=1)\n",
        "df_cleaned.head(10)"
      ]
    },
    {
      "cell_type": "markdown",
      "metadata": {
        "id": "p8cD0M0U4cNT"
      },
      "source": [
        "21. Очистити датафрейм від дублікатів (дублюючихся рядків) та записів, де атака продовжувалась відʼємну або нульову кількість часу (що фізично неможливо). Не забудьте оновити індекс. Скільки рядків було видалено? Як ви це перевірили у коді?"
      ]
    },
    {
      "cell_type": "code",
      "execution_count": 19,
      "metadata": {
        "id": "in3Fvn0I4l-I"
      },
      "outputs": [
        {
          "data": {
            "text/html": [
              "<div>\n",
              "<style scoped>\n",
              "    .dataframe tbody tr th:only-of-type {\n",
              "        vertical-align: middle;\n",
              "    }\n",
              "\n",
              "    .dataframe tbody tr th {\n",
              "        vertical-align: top;\n",
              "    }\n",
              "\n",
              "    .dataframe thead th {\n",
              "        text-align: right;\n",
              "    }\n",
              "</style>\n",
              "<table border=\"1\" class=\"dataframe\">\n",
              "  <thead>\n",
              "    <tr style=\"text-align: right;\">\n",
              "      <th></th>\n",
              "      <th>time_start</th>\n",
              "      <th>time_end</th>\n",
              "      <th>model</th>\n",
              "      <th>launch_place</th>\n",
              "      <th>target</th>\n",
              "      <th>carrier</th>\n",
              "      <th>launched</th>\n",
              "      <th>destroyed</th>\n",
              "      <th>not_reach_goal</th>\n",
              "      <th>cross_border_belarus</th>\n",
              "      <th>back_russia</th>\n",
              "      <th>still_attacking</th>\n",
              "      <th>destroyed_details</th>\n",
              "      <th>launched_details</th>\n",
              "      <th>launch_place_details</th>\n",
              "      <th>source</th>\n",
              "    </tr>\n",
              "  </thead>\n",
              "  <tbody>\n",
              "    <tr>\n",
              "      <th>0</th>\n",
              "      <td>2025-01-18 20:00</td>\n",
              "      <td>2025-01-19 09:00</td>\n",
              "      <td>Shahed-136/131</td>\n",
              "      <td>Bryansk oblast and Oryol oblast and Millerovo</td>\n",
              "      <td>Ukraine</td>\n",
              "      <td>NaN</td>\n",
              "      <td>61</td>\n",
              "      <td>43</td>\n",
              "      <td>15.0</td>\n",
              "      <td>NaN</td>\n",
              "      <td>NaN</td>\n",
              "      <td>1.0</td>\n",
              "      <td>{'Mykolaiv oblast': NaN,    'Kyiv oblast': NaN...</td>\n",
              "      <td>NaN</td>\n",
              "      <td>NaN</td>\n",
              "      <td>kpszsu/posts/pfbid0meYNAsX4voALE4SXunVpzKTwzrJ...</td>\n",
              "    </tr>\n",
              "    <tr>\n",
              "      <th>1</th>\n",
              "      <td>2025-01-17 19:00</td>\n",
              "      <td>2025-01-18 08:00</td>\n",
              "      <td>Shahed-136/131</td>\n",
              "      <td>Primorsko-Akhtarsk and Bryansk oblast and Mill...</td>\n",
              "      <td>Ukraine</td>\n",
              "      <td>NaN</td>\n",
              "      <td>39</td>\n",
              "      <td>24</td>\n",
              "      <td>14.0</td>\n",
              "      <td>NaN</td>\n",
              "      <td>NaN</td>\n",
              "      <td>NaN</td>\n",
              "      <td>{'Kherson oblast': NaN, 'Khmelnytskyi oblast':...</td>\n",
              "      <td>NaN</td>\n",
              "      <td>NaN</td>\n",
              "      <td>kpszsu/posts/pfbid0Rpzfu7u9ERu4o49Gm12eqSogKvZ...</td>\n",
              "    </tr>\n",
              "    <tr>\n",
              "      <th>2</th>\n",
              "      <td>2025-01-16 19:00</td>\n",
              "      <td>2025-01-17 09:00</td>\n",
              "      <td>Shahed-136/131</td>\n",
              "      <td>Primorsko-Akhtarsk and Kursk oblast and Bryans...</td>\n",
              "      <td>Ukraine</td>\n",
              "      <td>NaN</td>\n",
              "      <td>50</td>\n",
              "      <td>33</td>\n",
              "      <td>9.0</td>\n",
              "      <td>NaN</td>\n",
              "      <td>NaN</td>\n",
              "      <td>NaN</td>\n",
              "      <td>{'Odesa oblast and Mykolaiv oblast': 7, 'Khmel...</td>\n",
              "      <td>NaN</td>\n",
              "      <td>NaN</td>\n",
              "      <td>kpszsu/posts/pfbid0Gvye9Wn2gj8RPiiGaTQFGRas9Yg...</td>\n",
              "    </tr>\n",
              "    <tr>\n",
              "      <th>3</th>\n",
              "      <td>2025-01-16 19:00</td>\n",
              "      <td>2025-01-17 09:00</td>\n",
              "      <td>Iskander-M/KN-23</td>\n",
              "      <td>Bryansk oblast and Voronezh oblast</td>\n",
              "      <td>Kyiv oblast</td>\n",
              "      <td>NaN</td>\n",
              "      <td>4</td>\n",
              "      <td>2</td>\n",
              "      <td>NaN</td>\n",
              "      <td>NaN</td>\n",
              "      <td>NaN</td>\n",
              "      <td>NaN</td>\n",
              "      <td>NaN</td>\n",
              "      <td>NaN</td>\n",
              "      <td>NaN</td>\n",
              "      <td>kpszsu/posts/pfbid0Rpzfu7u9ERu4o49Gm12eqSogKvZ...</td>\n",
              "    </tr>\n",
              "    <tr>\n",
              "      <th>4</th>\n",
              "      <td>2025-01-16 19:00</td>\n",
              "      <td>2025-01-17 09:00</td>\n",
              "      <td>Iskander-M</td>\n",
              "      <td>Rostov oblast</td>\n",
              "      <td>Ukraine</td>\n",
              "      <td>NaN</td>\n",
              "      <td>2</td>\n",
              "      <td>0</td>\n",
              "      <td>NaN</td>\n",
              "      <td>NaN</td>\n",
              "      <td>NaN</td>\n",
              "      <td>NaN</td>\n",
              "      <td>NaN</td>\n",
              "      <td>NaN</td>\n",
              "      <td>NaN</td>\n",
              "      <td>kpszsu/posts/pfbid0Gvye9Wn2gj8RPiiGaTQFGRas9Yg...</td>\n",
              "    </tr>\n",
              "    <tr>\n",
              "      <th>5</th>\n",
              "      <td>2025-01-15 20:00</td>\n",
              "      <td>2025-01-16 09:00</td>\n",
              "      <td>Shahed-136/131</td>\n",
              "      <td>Primorsko-Akhtarsk and Bryansk oblast and Oryo...</td>\n",
              "      <td>Ukraine</td>\n",
              "      <td>NaN</td>\n",
              "      <td>55</td>\n",
              "      <td>34</td>\n",
              "      <td>18.0</td>\n",
              "      <td>NaN</td>\n",
              "      <td>NaN</td>\n",
              "      <td>NaN</td>\n",
              "      <td>{'Mykolaiv oblast': 5, 'Kyiv oblast': NaN, 'Su...</td>\n",
              "      <td>NaN</td>\n",
              "      <td>NaN</td>\n",
              "      <td>kpszsu/posts/pfbid0tPwzQHvvr63PbehDshED2WNV2vm...</td>\n",
              "    </tr>\n",
              "    <tr>\n",
              "      <th>6</th>\n",
              "      <td>2025-01-15 06:00</td>\n",
              "      <td>2025-01-15 08:00</td>\n",
              "      <td>X-59/X-69</td>\n",
              "      <td>Belgorod oblast</td>\n",
              "      <td>Ukraine</td>\n",
              "      <td>NaN</td>\n",
              "      <td>4</td>\n",
              "      <td>4</td>\n",
              "      <td>NaN</td>\n",
              "      <td>NaN</td>\n",
              "      <td>NaN</td>\n",
              "      <td>NaN</td>\n",
              "      <td>NaN</td>\n",
              "      <td>NaN</td>\n",
              "      <td>NaN</td>\n",
              "      <td>kpszsu/posts/pfbid0kLxxfDQRTeUt5wQT5eahJVkW1fb...</td>\n",
              "    </tr>\n",
              "    <tr>\n",
              "      <th>7</th>\n",
              "      <td>2025-01-15 06:00</td>\n",
              "      <td>2025-01-15 08:00</td>\n",
              "      <td>X-22/X-32</td>\n",
              "      <td>Tula oblast</td>\n",
              "      <td>Ukraine</td>\n",
              "      <td>Tu-22M3</td>\n",
              "      <td>7</td>\n",
              "      <td>0</td>\n",
              "      <td>NaN</td>\n",
              "      <td>NaN</td>\n",
              "      <td>NaN</td>\n",
              "      <td>NaN</td>\n",
              "      <td>NaN</td>\n",
              "      <td>NaN</td>\n",
              "      <td>NaN</td>\n",
              "      <td>kpszsu/posts/pfbid0kLxxfDQRTeUt5wQT5eahJVkW1fb...</td>\n",
              "    </tr>\n",
              "    <tr>\n",
              "      <th>8</th>\n",
              "      <td>2025-01-15 06:00</td>\n",
              "      <td>2025-01-15 08:00</td>\n",
              "      <td>X-101/X-555</td>\n",
              "      <td>Volgograd oblast</td>\n",
              "      <td>Ukraine</td>\n",
              "      <td>Tu-95MS</td>\n",
              "      <td>27</td>\n",
              "      <td>23</td>\n",
              "      <td>NaN</td>\n",
              "      <td>NaN</td>\n",
              "      <td>NaN</td>\n",
              "      <td>NaN</td>\n",
              "      <td>{'west': 20}</td>\n",
              "      <td>NaN</td>\n",
              "      <td>NaN</td>\n",
              "      <td>kpszsu/posts/pfbid0kLxxfDQRTeUt5wQT5eahJVkW1fb...</td>\n",
              "    </tr>\n",
              "    <tr>\n",
              "      <th>9</th>\n",
              "      <td>2025-01-15 06:00</td>\n",
              "      <td>2025-01-15 08:00</td>\n",
              "      <td>Kalibr</td>\n",
              "      <td>Black Sea</td>\n",
              "      <td>Ukraine</td>\n",
              "      <td>Navi</td>\n",
              "      <td>4</td>\n",
              "      <td>3</td>\n",
              "      <td>NaN</td>\n",
              "      <td>NaN</td>\n",
              "      <td>NaN</td>\n",
              "      <td>NaN</td>\n",
              "      <td>{'south': 1}</td>\n",
              "      <td>NaN</td>\n",
              "      <td>NaN</td>\n",
              "      <td>kpszsu/posts/pfbid0kLxxfDQRTeUt5wQT5eahJVkW1fb...</td>\n",
              "    </tr>\n",
              "  </tbody>\n",
              "</table>\n",
              "</div>"
            ],
            "text/plain": [
              "         time_start          time_end             model  \\\n",
              "0  2025-01-18 20:00  2025-01-19 09:00    Shahed-136/131   \n",
              "1  2025-01-17 19:00  2025-01-18 08:00    Shahed-136/131   \n",
              "2  2025-01-16 19:00  2025-01-17 09:00    Shahed-136/131   \n",
              "3  2025-01-16 19:00  2025-01-17 09:00  Iskander-M/KN-23   \n",
              "4  2025-01-16 19:00  2025-01-17 09:00        Iskander-M   \n",
              "5  2025-01-15 20:00  2025-01-16 09:00    Shahed-136/131   \n",
              "6  2025-01-15 06:00  2025-01-15 08:00         X-59/X-69   \n",
              "7  2025-01-15 06:00  2025-01-15 08:00         X-22/X-32   \n",
              "8  2025-01-15 06:00  2025-01-15 08:00       X-101/X-555   \n",
              "9  2025-01-15 06:00  2025-01-15 08:00            Kalibr   \n",
              "\n",
              "                                        launch_place       target  carrier  \\\n",
              "0      Bryansk oblast and Oryol oblast and Millerovo      Ukraine      NaN   \n",
              "1  Primorsko-Akhtarsk and Bryansk oblast and Mill...      Ukraine      NaN   \n",
              "2  Primorsko-Akhtarsk and Kursk oblast and Bryans...      Ukraine      NaN   \n",
              "3                 Bryansk oblast and Voronezh oblast  Kyiv oblast      NaN   \n",
              "4                                      Rostov oblast      Ukraine      NaN   \n",
              "5  Primorsko-Akhtarsk and Bryansk oblast and Oryo...      Ukraine      NaN   \n",
              "6                                    Belgorod oblast      Ukraine      NaN   \n",
              "7                                        Tula oblast      Ukraine  Tu-22M3   \n",
              "8                                   Volgograd oblast      Ukraine  Tu-95MS   \n",
              "9                                          Black Sea      Ukraine     Navi   \n",
              "\n",
              "   launched  destroyed  not_reach_goal  cross_border_belarus  back_russia  \\\n",
              "0        61         43            15.0                   NaN          NaN   \n",
              "1        39         24            14.0                   NaN          NaN   \n",
              "2        50         33             9.0                   NaN          NaN   \n",
              "3         4          2             NaN                   NaN          NaN   \n",
              "4         2          0             NaN                   NaN          NaN   \n",
              "5        55         34            18.0                   NaN          NaN   \n",
              "6         4          4             NaN                   NaN          NaN   \n",
              "7         7          0             NaN                   NaN          NaN   \n",
              "8        27         23             NaN                   NaN          NaN   \n",
              "9         4          3             NaN                   NaN          NaN   \n",
              "\n",
              "   still_attacking                                  destroyed_details  \\\n",
              "0              1.0  {'Mykolaiv oblast': NaN,    'Kyiv oblast': NaN...   \n",
              "1              NaN  {'Kherson oblast': NaN, 'Khmelnytskyi oblast':...   \n",
              "2              NaN  {'Odesa oblast and Mykolaiv oblast': 7, 'Khmel...   \n",
              "3              NaN                                                NaN   \n",
              "4              NaN                                                NaN   \n",
              "5              NaN  {'Mykolaiv oblast': 5, 'Kyiv oblast': NaN, 'Su...   \n",
              "6              NaN                                                NaN   \n",
              "7              NaN                                                NaN   \n",
              "8              NaN                                       {'west': 20}   \n",
              "9              NaN                                       {'south': 1}   \n",
              "\n",
              "  launched_details launch_place_details  \\\n",
              "0              NaN                  NaN   \n",
              "1              NaN                  NaN   \n",
              "2              NaN                  NaN   \n",
              "3              NaN                  NaN   \n",
              "4              NaN                  NaN   \n",
              "5              NaN                  NaN   \n",
              "6              NaN                  NaN   \n",
              "7              NaN                  NaN   \n",
              "8              NaN                  NaN   \n",
              "9              NaN                  NaN   \n",
              "\n",
              "                                              source  \n",
              "0  kpszsu/posts/pfbid0meYNAsX4voALE4SXunVpzKTwzrJ...  \n",
              "1  kpszsu/posts/pfbid0Rpzfu7u9ERu4o49Gm12eqSogKvZ...  \n",
              "2  kpszsu/posts/pfbid0Gvye9Wn2gj8RPiiGaTQFGRas9Yg...  \n",
              "3  kpszsu/posts/pfbid0Rpzfu7u9ERu4o49Gm12eqSogKvZ...  \n",
              "4  kpszsu/posts/pfbid0Gvye9Wn2gj8RPiiGaTQFGRas9Yg...  \n",
              "5  kpszsu/posts/pfbid0tPwzQHvvr63PbehDshED2WNV2vm...  \n",
              "6  kpszsu/posts/pfbid0kLxxfDQRTeUt5wQT5eahJVkW1fb...  \n",
              "7  kpszsu/posts/pfbid0kLxxfDQRTeUt5wQT5eahJVkW1fb...  \n",
              "8  kpszsu/posts/pfbid0kLxxfDQRTeUt5wQT5eahJVkW1fb...  \n",
              "9  kpszsu/posts/pfbid0kLxxfDQRTeUt5wQT5eahJVkW1fb...  "
            ]
          },
          "execution_count": 19,
          "metadata": {},
          "output_type": "execute_result"
        }
      ],
      "source": [
        "df_cleaned = df.drop_duplicates()\n",
        "df_cleaned.head(10)"
      ]
    },
    {
      "cell_type": "markdown",
      "metadata": {
        "id": "8zqL82Ie4nqY"
      },
      "source": [
        "**місце для текстової відповіді**"
      ]
    },
    {
      "cell_type": "code",
      "execution_count": null,
      "metadata": {
        "id": "GoHlOjXj4sIw"
      },
      "outputs": [],
      "source": []
    },
    {
      "cell_type": "markdown",
      "metadata": {
        "id": "6oZ7C_ry4uvb"
      },
      "source": [
        "22. Виведіть на екран всі рядки, де є хоч одне пропущене значення."
      ]
    },
    {
      "cell_type": "code",
      "execution_count": 20,
      "metadata": {
        "id": "BPmCTDtg4wVS"
      },
      "outputs": [
        {
          "name": "stdout",
          "output_type": "stream",
          "text": [
            "[0       True\n",
            "1       True\n",
            "2       True\n",
            "3       True\n",
            "4       True\n",
            "        ... \n",
            "2039    True\n",
            "2040    True\n",
            "2041    True\n",
            "2042    True\n",
            "2043    True\n",
            "Length: 2044, dtype: bool]\n"
          ]
        }
      ],
      "source": [
        "print([df.isnull().any(axis=1)])"
      ]
    }
  ],
  "metadata": {
    "colab": {
      "collapsed_sections": [
        "dwSyU2AjXwc-"
      ],
      "provenance": []
    },
    "kernelspec": {
      "display_name": "Python 3",
      "name": "python3"
    },
    "language_info": {
      "codemirror_mode": {
        "name": "ipython",
        "version": 3
      },
      "file_extension": ".py",
      "mimetype": "text/x-python",
      "name": "python",
      "nbconvert_exporter": "python",
      "pygments_lexer": "ipython3",
      "version": "3.11.9"
    }
  },
  "nbformat": 4,
  "nbformat_minor": 0
}
